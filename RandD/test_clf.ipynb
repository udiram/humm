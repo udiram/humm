{
 "cells": [
  {
   "cell_type": "code",
   "execution_count": 24,
   "outputs": [],
   "source": [
    "from keras.models import Sequential\n",
    "from keras.layers import Dense, Conv1D, Flatten\n",
    "from tensorflow.keras.layers import Embedding\n",
    "from keras_preprocessing.sequence import pad_sequences\n",
    "from tensorflow.keras.utils import to_categorical\n",
    "import pandas as pd\n",
    "from collections import Counter\n",
    "from sklearn.model_selection import train_test_split\n",
    "from tokenizer import filter_to_top_x"
   ],
   "metadata": {
    "collapsed": false,
    "pycharm": {
     "name": "#%%\n"
    }
   }
  },
  {
   "cell_type": "code",
   "execution_count": 25,
   "outputs": [
    {
     "data": {
      "text/plain": "                                                text         label\n0  I recently went through a breakup and she said...    depression\n1  I do not know how to navigate these feelings, ...    depression\n2  So I have been with my bf for 5 months , and h...    depression\n3  I am so exhausted of this. Just when I think I...  SuicideWatch\n4  I have been severly bullied since i was 5 till...    depression",
      "text/html": "<div>\n<style scoped>\n    .dataframe tbody tr th:only-of-type {\n        vertical-align: middle;\n    }\n\n    .dataframe tbody tr th {\n        vertical-align: top;\n    }\n\n    .dataframe thead th {\n        text-align: right;\n    }\n</style>\n<table border=\"1\" class=\"dataframe\">\n  <thead>\n    <tr style=\"text-align: right;\">\n      <th></th>\n      <th>text</th>\n      <th>label</th>\n    </tr>\n  </thead>\n  <tbody>\n    <tr>\n      <th>0</th>\n      <td>I recently went through a breakup and she said...</td>\n      <td>depression</td>\n    </tr>\n    <tr>\n      <th>1</th>\n      <td>I do not know how to navigate these feelings, ...</td>\n      <td>depression</td>\n    </tr>\n    <tr>\n      <th>2</th>\n      <td>So I have been with my bf for 5 months , and h...</td>\n      <td>depression</td>\n    </tr>\n    <tr>\n      <th>3</th>\n      <td>I am so exhausted of this. Just when I think I...</td>\n      <td>SuicideWatch</td>\n    </tr>\n    <tr>\n      <th>4</th>\n      <td>I have been severly bullied since i was 5 till...</td>\n      <td>depression</td>\n    </tr>\n  </tbody>\n</table>\n</div>"
     },
     "execution_count": 25,
     "metadata": {},
     "output_type": "execute_result"
    }
   ],
   "source": [
    "df = pd.read_csv('data/reddit_depression_suicidewatch.csv')\n",
    "df.head()"
   ],
   "metadata": {
    "collapsed": false,
    "pycharm": {
     "name": "#%%\n"
    }
   }
  },
  {
   "cell_type": "code",
   "execution_count": 26,
   "outputs": [
    {
     "name": "stdout",
     "output_type": "stream",
     "text": [
      "Counter({'depression': 10371, 'SuicideWatch': 9992})\n"
     ]
    }
   ],
   "source": [
    "counter = Counter(df['label'].tolist())\n",
    "print(counter)"
   ],
   "metadata": {
    "collapsed": false,
    "pycharm": {
     "name": "#%%\n"
    }
   }
  },
  {
   "cell_type": "code",
   "execution_count": 27,
   "outputs": [
    {
     "name": "stdout",
     "output_type": "stream",
     "text": [
      "{'depression': 0, 'SuicideWatch': 1}\n"
     ]
    }
   ],
   "source": [
    "top_10_varieties = {i[0]: idx for idx, i in enumerate(counter.most_common(10))}\n",
    "print(top_10_varieties)"
   ],
   "metadata": {
    "collapsed": false,
    "pycharm": {
     "name": "#%%\n"
    }
   }
  },
  {
   "cell_type": "code",
   "execution_count": 28,
   "outputs": [
    {
     "data": {
      "text/plain": "                                                text         label\n0  I recently went through a breakup and she said...    depression\n1  I do not know how to navigate these feelings, ...    depression\n2  So I have been with my bf for 5 months , and h...    depression\n3  I am so exhausted of this. Just when I think I...  SuicideWatch\n4  I have been severly bullied since i was 5 till...    depression",
      "text/html": "<div>\n<style scoped>\n    .dataframe tbody tr th:only-of-type {\n        vertical-align: middle;\n    }\n\n    .dataframe tbody tr th {\n        vertical-align: top;\n    }\n\n    .dataframe thead th {\n        text-align: right;\n    }\n</style>\n<table border=\"1\" class=\"dataframe\">\n  <thead>\n    <tr style=\"text-align: right;\">\n      <th></th>\n      <th>text</th>\n      <th>label</th>\n    </tr>\n  </thead>\n  <tbody>\n    <tr>\n      <th>0</th>\n      <td>I recently went through a breakup and she said...</td>\n      <td>depression</td>\n    </tr>\n    <tr>\n      <th>1</th>\n      <td>I do not know how to navigate these feelings, ...</td>\n      <td>depression</td>\n    </tr>\n    <tr>\n      <th>2</th>\n      <td>So I have been with my bf for 5 months , and h...</td>\n      <td>depression</td>\n    </tr>\n    <tr>\n      <th>3</th>\n      <td>I am so exhausted of this. Just when I think I...</td>\n      <td>SuicideWatch</td>\n    </tr>\n    <tr>\n      <th>4</th>\n      <td>I have been severly bullied since i was 5 till...</td>\n      <td>depression</td>\n    </tr>\n  </tbody>\n</table>\n</div>"
     },
     "execution_count": 28,
     "metadata": {},
     "output_type": "execute_result"
    }
   ],
   "source": [
    "df = df[df['label'].map(lambda x: x in top_10_varieties)]\n",
    "df.head()"
   ],
   "metadata": {
    "collapsed": false,
    "pycharm": {
     "name": "#%%\n"
    }
   }
  },
  {
   "cell_type": "code",
   "execution_count": 29,
   "outputs": [
    {
     "name": "stdout",
     "output_type": "stream",
     "text": [
      "I do not know how to navigate these feelings, not that its a new feeling by any stretch. I just do not understand how I can go on from being so pleasantly fine to suicidal and self loathing within in minutes and not be able to step out of it. I have been suffering from poor mental health for over 10 years and I am about to turn 26 next week and I feel so ashamed for how serious my negative thoughts are. Covid was a hard transition especially having moved to a new city a few months before everything started locking down, but now I am here and settled and I have a loving partner, a great connection to their family, a really fun job and I finished my degree. But when I stop and look around I feel like nothing will ever be good enough for me and I will never be good enough, I will always have skin problems and bad teeth and acne. I will never be the artist I used to be (I have a Bachelor in fine art) because I do not have the same drive or passionate that I used to have for it. I will never have the career I built my entire plan around because I am losing my interest in art. I will never have the relationship with my family that I want because I could not stand to stay in my hometown. All I can feel is this tornado of my failures swirling around me all the damn time. It just seems that no matter how many positives come my way they do not last long enough to out weight the negatives. I do not really know what I am looking for I guess I just wanted to say this out loud, or whatever. 0 to 100\n"
     ]
    }
   ],
   "source": [
    "description_list = df['text'].tolist()\n",
    "print(description_list[1])"
   ],
   "metadata": {
    "collapsed": false,
    "pycharm": {
     "name": "#%%\n"
    }
   }
  },
  {
   "cell_type": "code",
   "execution_count": 30,
   "outputs": [
    {
     "name": "stdout",
     "output_type": "stream",
     "text": [
      "[5, 28, 48, 218, 353, 6, 81, 258, 113, 96, 85, 8, 5, 278, 48, 12, 64, 22, 55, 67, 15, 459, 209, 247, 950, 7, 820, 18, 231, 942, 35, 0, 3, 1, 37, 414, 55, 953, 213, 293, 9, 117, 544, 74, 29, 561, 1535, 316, 275, 20, 15, 1216, 9, 48, 893, 755, 179, 38, 1921, 14, 164, 639, 191, 539, 258, 995, 184, 201, 178, 94, 205, 177, 11, 50, 108, 1, 898, 593, 388, 1478, 186, 99, 51, 450, 135, 1448, 875, 100, 47, 203, 273, 173, 20, 17, 105, 30, 136, 18, 91, 193, 9, 4, 30, 59, 18, 91, 193, 30, 88, 1, 1370, 338, 122, 1255, 30, 59, 18, 248, 18, 63, 1, 7, 459, 1483, 62, 31, 5, 1, 212, 697, 27, 6, 248, 1, 9, 3, 30, 59, 1, 710, 1922, 482, 530, 173, 31, 542, 822, 7, 1483, 30, 59, 1, 287, 16, 99, 6, 19, 31, 70, 679, 322, 7, 331, 12, 20, 2, 13, 0, 173, 4, 25, 732, 46, 128, 8, 292, 6, 43, 290, 48, 217, 251, 86, 42, 5, 160, 169, 193, 35, 649, 5, 51, 28, 34, 364, 9, 307, 8, 208, 159, 13, 35, 1643, 27, 505, 1640, 1082]\n"
     ]
    }
   ],
   "source": [
    "mapped_list, word_list = filter_to_top_x(description_list, 2500, 10)\n",
    "print(mapped_list[1])"
   ],
   "metadata": {
    "collapsed": false,
    "pycharm": {
     "name": "#%%\n"
    }
   }
  },
  {
   "cell_type": "code",
   "execution_count": 31,
   "outputs": [
    {
     "name": "stdout",
     "output_type": "stream",
     "text": [
      "{'of': 0, 'have': 1, 'is': 2, 'it': 3, 'me': 4, 'do': 5, 'that': 6, 'in': 7, 'just': 8, 'for': 9, 'i': 10, 'but': 11, 'can': 12, 'this': 13, 'was': 14, 'so': 15, 'with': 16, 'like': 17, 'be': 18, 'want': 19, 'feel': 20, 'you': 21, 'on': 22, '?': 23, 'life': 24, 'all': 25, 'myself': 26, 'or': 27, 'know': 28, 'about': 29, 'will': 30, 'because': 31, 'at': 32, 'get': 33, 'what': 34, 'out': 35, 'up': 36, 'been': 37, 'are': 38, 'would': 39, 'if': 40, 'even': 41, 'they': 42, 'no': 43, 'as': 44, 'people': 45, 'time': 46, 'when': 47, 'how': 48, 'had': 49, 'now': 50, 'really': 51, 'going': 52, 'one': 53, 'she': 54, 'from': 55, 'think': 56, 'her': 57, 'them': 58, 'never': 59, 'there': 60, 'much': 61, ')': 62, '(': 63, 'go': 64, 'did': 65, 'only': 66, 'being': 67, 'more': 68, 'day': 69, 'could': 70, 'things': 71, 'friends': 72, 'My': 73, 'years': 74, 'he': 75, 'has': 76, 'an': 77, 'help': 78, 'who': 79, 'anymore': 80, 'its': 81, 'anything': 82, 'some': 83, 'better': 84, 'any': 85, 'way': 86, 'depression': 87, 'always': 88, 'make': 89, 'still': 90, 'good': 91, 'we': 92, 'too': 93, 'everything': 94, 'back': 95, 'by': 96, 'work': 97, 'die': 98, 'family': 99, 'But': 100, 'does': 101, 'fucking': 102, 'live': 103, 'hate': 104, 'nothing': 105, 'something': 106, 'someone': 107, 'here': 108, 'got': 109, 'then': 110, 'see': 111, 'end': 112, 'feeling': 113, 'need': 114, 'him': 115, '``': 116, 'over': 117, 'The': 118, 'other': 119, '...': 120, 'every': 121, 'bad': 122, 'love': 123, 'why': 124, \"''\": 125, 'anyone': 126, 'than': 127, 'It': 128, 'again': 129, 'And': 130, 'talk': 131, 'after': 132, 'into': 133, 'take': 134, 'job': 135, 'ever': 136, 'tired': 137, 'since': 138, 'where': 139, 'year': 140, 'care': 141, 'right': 142, 'happy': 143, 'kill': 144, 'person': 145, 'point': 146, 'through': 147, 'shit': 148, 'try': 149, 'should': 150, 'off': 151, 'doing': 152, 'alone': 153, 'thing': 154, 'very': 155, 'keep': 156, 'everyone': 157, 'getting': 158, 'say': 159, 'last': 160, 'trying': 161, 'depressed': 162, 'your': 163, 'hard': 164, 'were': 165, 'tried': 166, 'thought': 167, 'parents': 168, 'long': 169, 'wish': 170, ';': 171, 'away': 172, 'around': 173, 'pain': 174, 'also': 175, 'find': 176, 'down': 177, 'before': 178, 'thoughts': 179, 'which': 180, '*': 181, 'suicide': 182, 'school': 183, 'few': 184, 'world': 185, 'their': 186, 'told': 187, 'made': 188, 'tell': 189, 'lot': 190, 'having': 191, '!': 192, 'enough': 193, 'worse': 194, 'makes': 195, 'days': 196, 'else': 197, 'felt': 198, 'living': 199, 'feels': 200, 'months': 201, 'friend': 202, 'stop': 203, 'most': 204, 'started': 205, 'So': 206, 'first': 207, 'wanted': 208, 'suicidal': 209, 'own': 210, 'done': 211, 'same': 212, 'mental': 213, 'ago': 214, 'lost': 215, 'while': 216, 'many': 217, 'these': 218, 'give': 219, 'said': 220, 'reason': 221, 'actually': 222, 'anxiety': 223, 'past': 224, '..': 225, 'without': 226, 'mom': 227, 'thinking': 228, 'best': 229, 'hope': 230, 'able': 231, 'well': 232, 'If': 233, 'sleep': 234, ':': 235, 'sad': 236, 'home': 237, 'left': 238, 'This': 239, 'his': 240, 'times': 241, 'little': 242, 'old': 243, 'let': 244, 'Its': 245, 'kind': 246, 'self': 247, 'used': 248, 'maybe': 249, 'already': 250, 'come': 251, 'though': 252, 'sure': 253, 'scared': 254, 'went': 255, 'Why': 256, 'mind': 257, 'new': 258, '2': 259, 'another': 260, 'put': 261, 'fuck': 262, 'money': 263, 'wrong': 264, 'IT': 265, 'hurt': 266, 'those': 267, 'until': 268, 'head': 269, 'our': 270, 'What': 271, 'place': 272, 'look': 273, 'almost': 274, 'week': 275, 'start': 276, 'leave': 277, 'understand': 278, 'two': 279, 'TAKE': 280, 'ANYMORE': 281, 'probably': 282, 'She': 283, 'night': 284, 'No': 285, 'How': 286, 'relationship': 287, \"'s\": 288, 'others': 289, 'matter': 290, 'today': 291, 'seems': 292, 'health': 293, 'therapy': 294, 'death': 295, 'making': 296, 'might': 297, 'us': 298, 'finally': 299, 'working': 300, 'They': 301, 'dad': 302, 'pretty': 303, 'gone': 304, '&': 305, 'such': 306, 'guess': 307, 'He': 308, '3': 309, 'sorry': 310, 'house': 311, 'least': 312, 'once': 313, 'sometimes': 314, 'alive': 315, 'next': 316, 'Just': 317, 'bed': 318, 'whole': 319, 'When': 320, 'future': 321, 'stay': 322, 'yet': 323, 'change': 324, 'body': 325, 'taking': 326, 'social': 327, 'literally': 328, 'talking': 329, 'real': 330, 'All': 331, 'weeks': 332, 'A': 333, 'close': 334, 'either': 335, 'normal': 336, 'hours': 337, 'problems': 338, '-': 339, 'post': 340, 'please': 341, 'different': 342, 'amp': 343, 'mother': 344, 'dead': 345, 'stuff': 346, 'constantly': 347, 'college': 348, 'Ill': 349, 'completely': 350, 'stupid': 351, 'worth': 352, 'feelings': 353, 'sick': 354, 'remember': 355, 'part': 356, 'ask': 357, 'high': 358, 'longer': 359, 'loved': 360, 'become': 361, 'month': 362, 'believe': 363, 'looking': 364, 'deal': 365, 'found': 366, 'everyday': 367, 'soon': 368, 'brain': 369, 'wake': 370, 'therapist': 371, 'move': 372, 'cry': 373, 'happened': 374, 'took': 375, 'Now': 376, 'You': 377, 'bit': 378, 'We': 379, 'crying': 380, 'killing': 381, 'honestly': 382, 'seem': 383, 'gets': 384, 'saying': 385, 'issues': 386, 'single': 387, 'great': 388, 'advice': 389, 'girl': 390, 'wants': 391, 'hell': 392, 'nobody': 393, 'recently': 394, 'mean': 395, 'due': 396, 'deserve': 397, 'lonely': 398, 'okay': 399, 'together': 400, 'less': 401, 'Is': 402, 'room': 403, 'each': 404, 'call': 405, 'idea': 406, 'read': 407, 'stuck': 408, 'support': 409, 'fucked': 410, 'telling': 411, 'In': 412, 'Like': 413, 'suffering': 414, 'enjoy': 415, 'afraid': 416, 'struggling': 417, 'Not': 418, 'worst': 419, 'happen': 420, 'came': 421, 'problem': 422, 'hurts': 423, 'far': 424, 'fact': 425, 'experience': 426, 'inside': 427, 'etc': 428, 'truly': 429, 'moment': 430, 'Maybe': 431, 'situation': 432, 'barely': 433, 'says': 434, 'yourself': 435, 'girlfriend': 436, 'meds': 437, 'energy': 438, 'couple': 439, 'supposed': 440, 'break': 441, 'For': 442, 'Even': 443, 'empty': 444, 'man': 445, 'father': 446, 'may': 447, 'eat': 448, 'decided': 449, 'fun': 450, 'face': 451, '5': 452, 'knew': 453, 'horrible': 454, 'both': 455, '4': 456, 'Every': 457, 'There': 458, 'fine': 459, 'cut': 460, 'broke': 461, 'brother': 462, 'needed': 463, 'use': 464, 'motivation': 465, 'That': 466, 'called': 467, 'starting': 468, 'nice': 469, 'age': 470, 'heart': 471, 'stopped': 472, 'fear': 473, 'died': 474, 'coming': 475, 'comes': 476, 'Id': 477, 'mentally': 478, 'car': 479, 'guy': 480, 'asked': 481, 'entire': 482, 'big': 483, 'boyfriend': 484, 'rest': 485, 'sister': 486, 'exist': 487, 'wanting': 488, 'seeing': 489, 'happiness': 490, 'sense': 491, 'state': 492, 'medication': 493, 'angry': 494, 'extremely': 495, 'later': 496, '#': 497, 'hospital': 498, 'To': 499, 'instead': 500, 'emotions': 501, 'often': 502, 'miserable': 503, 'during': 504, 'whatever': 505, 'hit': 506, 'ended': 507, 'basically': 508, 'goes': 509, 'child': 510, 'cares': 511, 'gotten': 512, 'miss': 513, 'burden': 514, 'shitty': 515, 'born': 516, 'lose': 517, 'morning': 518, 'At': 519, 'side': 520, 'second': 521, 'kids': 522, 'knowing': 523, 'hear': 524, 'kid': 525, 'Then': 526, 'pay': 527, 'spend': 528, 'human': 529, 'plan': 530, 'lives': 531, 'full': 532, 'idk': 533, 'terrible': 534, 'reading': 535, 'fight': 536, 'handle': 537, 'outside': 538, 'moved': 539, 'control': 540, 'online': 541, 'losing': 542, 'eating': 543, '10': 544, 'absolutely': 545, 'ending': 546, '6': 547, 'gave': 548, 'useless': 549, 'diagnosed': 550, 'rather': 551, 'selfish': 552, 'Please': 553, 'dying': 554, 'constant': 555, 'small': 556, 'failed': 557, 'guys': 558, 'writing': 559, 'x200B': 560, 'turn': 561, 'bring': 562, 'spent': 563, 'Everything': 564, 'suffer': 565, 'Life': 566, 'worthless': 567, 'country': 568, 'happens': 569, 'sucks': 570, 'doctor': 571, 'continue': 572, 'hold': 573, 'low': 574, 'ones': 575, 'forever': 576, 'half': 577, 'weird': 578, 'failure': 579, 'kept': 580, 'broken': 581, 'knows': 582, 'worked': 583, \"'\": 584, 'helped': 585, 'words': 586, 'ill': 587, 'struggle': 588, 'anyway': 589, 'pills': 590, 'ready': 591, 'food': 592, 'partner': 593, 'easy': 594, 'reality': 595, 'course': 596, 'forward': 597, '....': 598, 'play': 599, 'attempt': 600, 'possible': 601, 'deep': 602, 'story': 603, 'After': 604, 'phone': 605, 'relationships': 606, 'People': 607, 'strong': 608, 'waiting': 609, 'young': 610, 'Sometimes': 611, 'quite': 612, 'seen': 613, 'As': 614, 'free': 615, 'stress': 616, 'Nothing': 617, 'fall': 618, 'fault': 619, 'attention': 620, 'fix': 621, 'write': 622, 'emotional': 623, 'trust': 624, 'asking': 625, '1': 626, 'numb': 627, '18': 628, 'taken': 629, 'show': 630, 'tomorrow': 631, 'behind': 632, 'currently': 633, 'giving': 634, 'open': 635, 'ugly': 636, 'Or': 637, 'met': 638, 'especially': 639, 'keeps': 640, 'true': 641, 'games': 642, 'short': 643, 'ok': 644, 'sadness': 645, 'realize': 646, 'dream': 647, 'act': 648, 'weight': 649, 'eventually': 650, '20': 651, 'wait': 652, 'physically': 653, 'lately': 654, 'difficult': 655, 'saw': 656, 'means': 657, 'slowly': 658, 'harder': 659, 'trauma': 660, 'watch': 661, 'ways': 662, 'dark': 663, 'peace': 664, 'awful': 665, 'talked': 666, 'hang': 667, 'afford': 668, 'eyes': 669, 'given': 670, 'leaving': 671, 'reasons': 672, 'seriously': 673, 'worry': 674, '--': 675, 'usually': 676, 'ex': 677, 'late': 678, 'stand': 679, 'became': 680, 'listen': 681, 'genuinely': 682, 'anxious': 683, 'physical': 684, 'Idk': 685, 'group': 686, 'against': 687, 'sort': 688, 'dog': 689, 'Fuck': 690, 'hurting': 691, 'sit': 692, 'sex': 693, 'piece': 694, 'harm': 695, 'mess': 696, 'drive': 697, 'meet': 698, 'drugs': 699, 'reach': 700, 'abuse': 701, 'tonight': 702, 'chance': 703, 'jobs': 704, 'escape': 705, 'turned': 706, 'abusive': 707, 'realized': 708, 'music': 709, 'career': 710, 'walk': 711, 'positive': 712, 'quit': 713, 'share': 714, 'Everyone': 715, 'hopeless': 716, 'cope': 717, 'Because': 718, 'top': 719, 'wife': 720, 'childhood': 721, 'exhausted': 722, 'panic': 723, 'vent': 724, 'pathetic': 725, 'thinks': 726, 'towards': 727, 'existence': 728, 'guilty': 729, 'emotionally': 730, 'upset': 731, 'damn': 732, 'watching': 733, 'run': 734, 'painful': 735, 'bc': 736, 'crazy': 737, 'question': 738, 'purpose': 739, 'waste': 740, 'God': 741, 'commit': 742, 'somehow': 743, 'joy': 744, 'three': 745, 'society': 746, '%': 747, 'god': 748, 'mood': 749, 'severe': 750, 'depressive': 751, 'wonder': 752, 'amount': 753, 'dreams': 754, 'negative': 755, 'needs': 756, 'between': 757, 'whenever': 758, 'keeping': 759, 'daily': 760, 'fighting': 761, 'birthday': 762, 'type': 763, 'sleeping': 764, 'worried': 765, 'dealing': 766, 'lack': 767, 'front': 768, 'explain': 769, 'along': 770, 'simply': 771, 'hes': 772, 'killed': 773, '8': 774, 'happening': 775, 'Do': 776, 'summer': 777, 'fail': 778, 'somewhere': 779, 'video': 780, 'moving': 781, 'important': 782, 'multiple': 783, 'weak': 784, 'playing': 785, 'illness': 786, 'easier': 787, 'disorder': 788, 'takes': 789, 'woman': 790, 'Does': 791, 'impossible': 792, 'despite': 793, 'changed': 794, 'option': 795, 'apart': 796, 'drinking': 797, 'blame': 798, '15': 799, 'forget': 800, 'gives': 801, 'helps': 802, 'super': 803, 'lived': 804, 'none': 805, 'lazy': 806, 'mine': 807, 'early': 808, '30': 809, 'works': 810, 'alcohol': 811, 'meant': 812, 'anger': 813, 'hobbies': 814, 'gun': 815, 'helping': 816, 'heard': 817, 'except': 818, 'One': 819, 'minutes': 820, 'themselves': 821, 'interest': 822, 'hour': 823, 'Well': 824, 'putting': 825, 'drink': 826, 'huge': 827, 'guilt': 828, 'effort': 829, 'class': 830, 'clean': 831, 'passed': 832, 'date': 833, 'imagine': 834, 'study': 835, 'toxic': 836, 'falling': 837, 'mum': 838, 'must': 839, 'chest': 840, 'mad': 841, 'older': 842, 'ruined': 843, 'pass': 844, 'honest': 845, 'sounds': 846, 'perfect': 847, 'looks': 848, 'psychiatrist': 849, '7': 850, 'sitting': 851, 'accept': 852, 'badly': 853, 'save': 854, 'note': 855, 'Can': 856, '16': 857, 'hanging': 858, 'Today': 859, 'pandemic': 860, 'under': 861, 'antidepressants': 862, 'apartment': 863, 'hoping': 864, 'tells': 865, 'mostly': 866, 'lie': 867, '17': 868, 'bother': 869, 'Any': 870, 'answer': 871, 'game': 872, 'buy': 873, 'speak': 874, 'degree': 875, 'anybody': 876, 'forced': 877, 'set': 878, 'women': 879, 'fake': 880, 'finding': 881, 'adult': 882, 'middle': 883, 'pointless': 884, 'cared': 885, 'healthy': 886, 'hand': 887, 'bullshit': 888, 'figure': 889, 'focus': 890, 'till': 891, 'Am': 892, 'serious': 893, 'drunk': 894, 'university': 895, 'ass': 896, 'personality': 897, 'loving': 898, 'trapped': 899, 'existing': 900, 'survive': 901, 'loser': 902, 'beautiful': 903, 'cried': 904, 'Sorry': 905, 'comfort': 906, 'straight': 907, 'dumb': 908, 'regret': 909, 'symptoms': 910, 'amazing': 911, '12': 912, 'Thanks': 913, 'dating': 914, 'several': 915, 'loneliness': 916, 'push': 917, 'Hi': 918, 'yesterday': 919, 'wondering': 920, 'name': 921, 'Some': 922, 'case': 923, 'However': 924, 'cycle': 925, 'hole': 926, 'planning': 927, 'major': 928, 'nor': 929, 'boring': 930, 'loves': 931, 'Also': 932, 'general': 933, 'learn': 934, 'Depression': 935, 'complete': 936, 'grades': 937, 'plans': 938, 'attempted': 939, 'struggled': 940, 'nowhere': 941, 'step': 942, 'whether': 943, 'space': 944, 'becoming': 945, 'joke': 946, 'looked': 947, 'girls': 948, 'thank': 949, 'within': 950, 'married': 951, 'memories': 952, 'poor': 953, 'anywhere': 954, 'younger': 955, 'contact': 956, 'conversation': 957, '$': 958, 'expect': 959, 'caused': 960, 'waking': 961, 'issue': 962, 'yeah': 963, 'funny': 964, 'unable': 965, 'abused': 966, 'Thank': 967, 'husband': 968, 'light': 969, 'treatment': 970, 'fast': 971, 'decision': 972, 'posting': 973, 'terrified': 974, 'cutting': 975, 'skills': 976, 'lol': 977, 'using': 978, 'safe': 979, 'proud': 980, 'anyways': 981, 'experienced': 982, 'exactly': 983, 'moments': 984, 'nearly': 985, 'certain': 986, 'lying': 987, 'hated': 988, 'asleep': 989, 'order': 990, 'choice': 991, 'bullied': 992, 'further': 993, 'holding': 994, 'city': 995, 'himself': 996, 'hates': 997, 'laugh': 998, 'hair': 999, 'lay': 1000, 'covid': 1001, 'son': 1002, 'rant': 1003, 'grade': 1004, 'definitely': 1005, 'treated': 1006, 'running': 1007, 'smile': 1008, 'current': 1009, 'daughter': 1010, 'meaning': 1011, 'successful': 1012, 'internet': 1013, 'suddenly': 1014, 'growing': 1015, 'me.I': 1016, 'sound': 1017, 'tears': 1018, 'desire': 1019, 'personal': 1020, 'attack': 1021, 'comfortable': 1022, 'shut': 1023, 'listening': 1024, 'episode': 1025, 'Since': 1026, 'likely': 1027, '19': 1028, 'similar': 1029, 'cold': 1030, 'Being': 1031, 'avoid': 1032, 'force': 1033, 'grow': 1034, 'mistake': 1035, 'jump': 1036, 'fell': 1037, 'easily': 1038, 'managed': 1039, 'children': 1040, 'process': 1041, 'mistakes': 1042, 'disappear': 1043, 'Nobody': 1044, 'fit': 1045, 'allowed': 1046, 'incredibly': 1047, 'wasted': 1048, '21': 1049, 'system': 1050, 'water': 1051, 'classes': 1052, 'staying': 1053, 'finish': 1054, 'Anyone': 1055, 'media': 1056, 'wrote': 1057, 'simple': 1058, 'notice': 1059, 'manage': 1060, 'brought': 1061, 'failing': 1062, 'sent': 1063, 'student': 1064, 'yes': 1065, 'doctors': 1066, 'woke': 1067, 'cat': 1068, 'courage': 1069, 'disgusting': 1070, '22': 1071, 'ends': 1072, 'herself': 1073, '24': 1074, 'noticed': 1075, 'check': 1076, 'relate': 1077, 'lucky': 1078, 'un': 1079, 'known': 1080, 'calling': 1081, '100': 1082, 'voice': 1083, 'On': 1084, 'caring': 1085, 'fat': 1086, 'goals': 1087, 'interested': 1088, 'random': 1089, 'considering': 1090, 'Hey': 1091, 'truth': 1092, 'Hello': 1093, 'attacks': 1094, 'near': 1095, 'busy': 1096, 'somebody': 1097, 'stressed': 1098, 'hide': 1099, 'twice': 1100, 'weed': 1101, 'seek': 1102, 'fully': 1103, 'medical': 1104, 'appreciate': 1105, 'breaking': 1106, 'thanks': 1107, 'form': 1108, 'bunch': 1109, 'choose': 1110, 'clear': 1111, 'professional': 1112, 'learned': 1113, 'closer': 1114, 'actual': 1115, 'TO': 1116, 'soul': 1117, 'possibly': 1118, 'insurance': 1119, 'doubt': 1120, 'graduated': 1121, 'experiences': 1122, 'beat': 1123, 'ruin': 1124, 'pressure': 1125, '[': 1126, 'everybody': 1127, 'earth': 1128, 'decent': 1129, 'aware': 1130, 'liked': 1131, 'trouble': 1132, '23': 1133, 'level': 1134, 'ME': 1135, 'quickly': 1136, 'pushing': 1137, 'minute': 1138, '14': 1139, 'begin': 1140, 'strength': 1141, 'account': 1142, 'confused': 1143, 'meaningless': 1144, 'hands': 1145, 'smart': 1146, 'psych': 1147, 'final': 1148, 'wasting': 1149, 'reached': 1150, '25': 1151, 'homeless': 1152, 'letting': 1153, 'cancer': 1154, 'throw': 1155, 'suck': 1156, 'grew': 1157, 'accident': 1158, '9': 1159, 'coward': 1160, 'breakdown': 1161, 'obviously': 1162, 'confidence': 1163, 'goodbye': 1164, 'beyond': 1165, 'sexual': 1166, 'Feeling': 1167, 'loss': 1168, 'ignore': 1169, 'unhappy': 1170, 'rn': 1171, 'tho': 1172, 'blood': 1173, 'misery': 1174, 'matters': 1175, '/': 1176, 'pretend': 1177, 'excited': 1178, 'onto': 1179, 'overwhelmed': 1180, 'however': 1181, 'options': 1182, 'properly': 1183, 'treat': 1184, 'driving': 1185, 'extreme': 1186, 'throughout': 1187, 'although': 1188, 'function': 1189, 'seemed': 1190, 'appointment': 1191, 'progress': 1192, 'walking': 1193, 'text': 1194, 'places': 1195, 'male': 1196, '13': 1197, 'beginning': 1198, 'insane': 1199, 'reddit': 1200, 'door': 1201, 'drug': 1202, 'questions': 1203, 'word': 1204, 'parent': 1205, 'unless': 1206, ']': 1207, 'pull': 1208, 'supportive': 1209, 'decide': 1210, 'improve': 1211, 'oh': 1212, 'siblings': 1213, 'paying': 1214, 'totally': 1215, 'ashamed': 1216, 'gf': 1217, 'studying': 1218, 'offer': 1219, 'company': 1220, 'immediately': 1221, 'weekend': 1222, 'Help': 1223, 'Last': 1224, 'spending': 1225, 'grateful': 1226, 'main': 1227, 'title': 1228, 'bored': 1229, 'pick': 1230, 'send': 1231, 'began': 1232, 'bills': 1233, 'mention': 1234, 'rent': 1235, 'hearing': 1236, 'planned': 1237, 'medications': 1238, 'touch': 1239, 'alot': 1240, 'calm': 1241, 'building': 1242, 'distract': 1243, '2020': 1244, 'path': 1245, 'isolated': 1246, 'period': 1247, 'biggest': 1248, 'men': 1249, 'attempts': 1250, 'express': 1251, 'luck': 1252, 'financial': 1253, 'drop': 1254, 'teeth': 1255, 'annoying': 1256, 'besides': 1257, 'ability': 1258, 'black': 1259, 'edge': 1260, 'starts': 1261, 'stayed': 1262, 'itself': 1263, 'bf': 1264, 'it.I': 1265, 'dropped': 1266, 'coping': 1267, 'hopefully': 1268, 'baby': 1269, 'desperate': 1270, 'considered': 1271, 'IN': 1272, 'perdedorSoy': 1273, 'police': 1274, 'effects': 1275, 'disappointed': 1276, 'clearly': 1277, 'list': 1278, 'absolute': 1279, 'floor': 1280, 'value': 1281, 'disappointment': 1282, 'hug': 1283, 'consider': 1284, 'cuz': 1285, 'attractive': 1286, 'ignored': 1287, 'including': 1288, 'tough': 1289, 'bitch': 1290, 'special': 1291, 'changes': 1292, 'scary': 1293, 'pushed': 1294, 'damage': 1295, 'ADHD': 1296, 'shower': 1297, 'Should': 1298, 'id': 1299, 'Have': 1300, 'rough': 1301, 'goal': 1302, 'Suicide': 1303, 'depressing': 1304, 'zero': 1305, 'everytime': 1306, 'episodes': 1307, 'convince': 1308, 'exhausting': 1309, 'town': 1310, 'planet': 1311, 'posts': 1312, 'basic': 1313, 'line': 1314, 'bought': 1315, 'memory': 1316, 'void': 1317, 'learning': 1318, 'FUCKING': 1319, 'friendship': 1320, 'Will': 1321, 'fair': 1322, 'forgive': 1323, 'Most': 1324, 'bipolar': 1325, 'Which': 1326, 'YOU': 1327, 'accepted': 1328, 'quiet': 1329, 'missing': 1330, 'debt': 1331, 'calls': 1332, 'chronic': 1333, 'overdose': 1334, 'normally': 1335, 'suffered': 1336, 'messed': 1337, 'solution': 1338, 'YOUR': 1339, 'These': 1340, 'relief': 1341, 'Someone': 1342, 'frustrated': 1343, 'causing': 1344, 'kicked': 1345, 'rid': 1346, 'mirror': 1347, 'struggles': 1348, 'Who': 1349, 'appreciated': 1350, 'Things': 1351, 'example': 1352, 'nights': 1353, 'return': 1354, 'happier': 1355, 'brings': 1356, 'position': 1357, 'term': 1358, 'heavy': 1359, 'Been': 1360, '11': 1361, 'filled': 1362, 'somewhat': 1363, 'Everyday': 1364, 'admit': 1365, 'changing': 1366, 'universe': 1367, 'achieve': 1368, 'hating': 1369, 'skin': 1370, 'crap': 1371, 'screaming': 1372, 'lots': 1373, 'paid': 1374, 'expected': 1375, 'intrusive': 1376, 'understanding': 1377, 'convinced': 1378, 'trip': 1379, 'likes': 1380, 'destroyed': 1381, 'urge': 1382, 'ward': 1383, 'uncomfortable': 1384, 'cruel': 1385, 'education': 1386, 'missed': 1387, 'AND': 1388, 'message': 1389, 'four': 1390, 'success': 1391, 'pity': 1392, 'closest': 1393, 'excuse': 1394, 'Honestly': 1395, 'therapists': 1396, 'belong': 1397, 'opportunity': 1398, 'cool': 1399, 'quick': 1400, 'stomach': 1401, 'held': 1402, 'community': 1403, 'exercise': 1404, 'method': 1405, 'party': 1406, 'related': 1407, 'tips': 1408, 'turning': 1409, 'sign': 1410, 'difference': 1411, 'wall': 1412, 'knife': 1413, 'acting': 1414, 'ideation': 1415, 'stories': 1416, 'seeking': 1417, 'asshole': 1418, 'painless': 1419, 'Reddit': 1420, 'Never': 1421, 'apparently': 1422, 'willing': 1423, 'actions': 1424, 'lead': 1425, 'power': 1426, 'battle': 1427, 'slow': 1428, 'interesting': 1429, 'clothes': 1430, 'allow': 1431, 'overwhelming': 1432, 'across': 1433, 'interests': 1434, 'friendships': 1435, 'stopping': 1436, 'desperately': 1437, 'First': 1438, 'Me': 1439, 'awkward': 1440, 'bottom': 1441, 'pretending': 1442, 'deeply': 1443, 'bottle': 1444, 'shame': 1445, 'saved': 1446, 'LIVING': 1447, 'finished': 1448, 'Yet': 1449, 'trigger': 1450, 'rock': 1451, 'passion': 1452, 'terms': 1453, 'rejected': 1454, 'follow': 1455, 'sub': 1456, 'socially': 1457, 'subreddit': 1458, 'road': 1459, 'average': 1460, 'sexually': 1461, 'crisis': 1462, 'leaves': 1463, 'describe': 1464, 'emotion': 1465, 'ideas': 1466, 'Whenever': 1467, 'chat': 1468, 'psychologist': 1469, 'earlier': 1470, 'suppose': 1471, 'Recently': 1472, 'graduate': 1473, 'smoking': 1474, 'FUCK': 1475, 'slept': 1476, 'book': 1477, 'connection': 1478, 'humans': 1479, 'visit': 1480, 'Only': 1481, 'helpful': 1482, 'art': 1483, 'otherwise': 1484, 'motivated': 1485, 'PTSD': 1486, 'rope': 1487, 'talks': 1488, 'hatred': 1489, 'understands': 1490, 'spiral': 1491, 'enjoying': 1492, 'situations': 1493, 'marriage': 1494, 'wonderful': 1495, 'realised': 1496, 'area': 1497, 'temporary': 1498, 'experiencing': 1499, 'stable': 1500, 'Where': 1501, 'response': 1502, 'jealous': 1503, 'intense': 1504, 'uni': 1505, 'idiot': 1506, 'members': 1507, 'smoke': 1508, 'breathe': 1509, 'history': 1510, 'actively': 1511, 'deeper': 1512, 'total': 1513, 'realise': 1514, 'Right': 1515, 'que': 1516, 'boy': 1517, 'public': 1518, 'diagnosis': 1519, 'hopes': 1520, 'sudden': 1521, 'boss': 1522, 'prescribed': 1523, 'everywhere': 1524, 'SO': 1525, 'medicine': 1526, 'comments': 1527, 'distance': 1528, 'addiction': 1529, 'bridge': 1530, 'business': 1531, 'sober': 1532, 'awake': 1533, 'NOT': 1534, '26': 1535, 'stick': 1536, 'typing': 1537, 'result': 1538, 'posted': 1539, 'wishing': 1540, 'expensive': 1541, 'carry': 1542, 'language': 1543, 'developed': 1544, 'emptiness': 1545, 'respond': 1546, 'movie': 1547, 'Anyway': 1548, 'severely': 1549, 'vacation': 1550, 'train': 1551, 'From': 1552, 'generally': 1553, 'With': 1554, '40': 1555, 'Oh': 1556, 'strangers': 1557, 'trash': 1558, 'chose': 1559, 'kms': 1560, 'arms': 1561, 'previous': 1562, 'grandma': 1563, 'Ever': 1564, 'common': 1565, 'decisions': 1566, 'permanent': 1567, 'alright': 1568, 'bear': 1569, 'shot': 1570, 'laying': 1571, 'rarely': 1572, 'hotline': 1573, 'nightmare': 1574, '24/7': 1575, 'count': 1576, 'financially': 1577, '.I': 1578, 'Are': 1579, 'unbearable': 1580, 'sat': 1581, 'venting': 1582, 'five': 1583, 'obvious': 1584, 'picture': 1585, 'shows': 1586, 'dealt': 1587, 'nervous': 1588, 'usual': 1589, 'access': 1590, 'disease': 1591, 'MY': 1592, 'gain': 1593, 'ahead': 1594, 'promise': 1595, 'scars': 1596, 'Has': 1597, 'extra': 1598, 'Of': 1599, 'information': 1600, 'reaching': 1601, 'ran': 1602, 'content': 1603, 'drowning': 1604, 'jumping': 1605, 'trans': 1606, 'upon': 1607, 'scream': 1608, 'favorite': 1609, '.....': 1610, 'sake': 1611, 'sees': 1612, 'stronger': 1613, '27': 1614, 'sensitive': 1615, 'passing': 1616, 'causes': 1617, 'videos': 1618, 'condition': 1619, 'THE': 1620, 'computer': 1621, 'embarrassed': 1622, 'written': 1623, 'tbh': 1624, 'number': 1625, 'confident': 1626, 'female': 1627, 'While': 1628, 'overcome': 1629, 'above': 1630, 'forgotten': 1631, 'respect': 1632, 'dread': 1633, 'field': 1634, 'forgot': 1635, 'create': 1636, 'risk': 1637, 'becomes': 1638, 'teacher': 1639, '0': 1640, 'repeat': 1641, 'potential': 1642, 'loud': 1643, 'addicted': 1644, 'esteem': 1645, 'Tired': 1646, 'present': 1647, 'hardly': 1648, 'mindset': 1649, 'despair': 1650, 'messages': 1651, 'lockdown': 1652, 'cheated': 1653, 'lied': 1654, 'gym': 1655, 'worrying': 1656, 'Yes': 1657, 'semester': 1658, 'harming': 1659, 'mentioned': 1660, 'walked': 1661, 'compared': 1662, 'committed': 1663, 'meeting': 1664, 'gay': 1665, 'hits': 1666, 'n': 1667, 'English': 1668, 'dose': 1669, 'torture': 1670, 'events': 1671, 'pray': 1672, 'Would': 1673, 'add': 1674, 'office': 1675, 'entirely': 1676, 'news': 1677, 'plus': 1678, 'movies': 1679, 'environment': 1680, 'darkness': 1681, 'Before': 1682, 'massive': 1683, 'productive': 1684, 'led': 1685, 'tasks': 1686, 'program': 1687, 'build': 1688, 'surgery': 1689, 'exam': 1690, 'cousin': 1691, 'turns': 1692, 'travel': 1693, 'fired': 1694, 'background': 1695, 'ppl': 1696, 'Anyways': 1697, 'refuse': 1698, 'strange': 1699, 'win': 1700, 'peoples': 1701, 'routine': 1702, 'understood': 1703, 'endless': 1704, 'traumatic': 1705, 'studies': 1706, 'unemployed': 1707, 'available': 1708, 'garbage': 1709, 'monster': 1710, 'steps': 1711, 'July': 1712, 'bathroom': 1713, 'WALLSI': 1714, \"'M\": 1715, 'white': 1716, 'lowest': 1717, 'spot': 1718, 'raped': 1719, 'third': 1720, '20s': 1721, 'behavior': 1722, 'figured': 1723, 'answers': 1724, '\\\\': 1725, 'breaks': 1726, 'heal': 1727, 'regularly': 1728, 'neck': 1729, 'exams': 1730, 'awhile': 1731, 'feet': 1732, 'effect': 1733, 'capable': 1734, 'decade': 1735, 'pleasure': 1736, 'comment': 1737, 'locked': 1738, 'birth': 1739, 'glad': 1740, 'bigger': 1741, 'Had': 1742, 'hitting': 1743, 'laughing': 1744, 'Still': 1745, 'active': 1746, 'kick': 1747, 'showed': 1748, 'mouth': 1749, 'lies': 1750, 'fire': 1751, 'nightmares': 1752, 'test': 1753, 'Feel': 1754, 'catch': 1755, 'wear': 1756, 'raised': 1757, 'Literally': 1758, 'highschool': 1759, 'freedom': 1760, 'COVID': 1761, 'jokes': 1762, 'grown': 1763, 'overall': 1764, 'destroy': 1765, 'stressful': 1766, 'Yeah': 1767, 'pussy': 1768, 'sessions': 1769, 'hey': 1770, 'abandoned': 1771, 'silence': 1772, 'existed': 1773, 'blocked': 1774, 'ground': 1775, 'Hes': 1776, 'research': 1777, 'speaking': 1778, 'books': 1779, 'scares': 1780, 'roof': 1781, 'store': 1782, 'provide': 1783, 'divorced': 1784, 'schedule': 1785, 'Over': 1786, 'fill': 1787, 'coworkers': 1788, 'alcoholic': 1789, 'teenager': 1790, 'genuine': 1791, 'insecure': 1792, 'complain': 1793, 'apply': 1794, 'tend': 1795, 'hung': 1796, 'anti': 1797, 'enjoyed': 1798, 'divorce': 1799, 'bullying': 1800, 'activities': 1801, 'caught': 1802, 'OCD': 1803, 'view': 1804, 'maintain': 1805, 'watched': 1806, 'drained': 1807, 'hot': 1808, 'dogs': 1809, 'advance': 1810, 'hardest': 1811, 'breakup': 1812, 'peaceful': 1813, 'recent': 1814, 'member': 1815, 'seconds': 1816, 'ton': 1817, 'expectations': 1818, 'rich': 1819, 'teachers': 1820, 'solve': 1821, 'bothered': 1822, 'realizing': 1823, 'air': 1824, 'non': 1825, 'opinion': 1826, 'groups': 1827, 'Need': 1828, 'regular': 1829, 'snap': 1830, 'eye': 1831, 'results': 1832, 'Was': 1833, 'phase': 1834, 'pissed': 1835, 'gt': 1836, 'minimum': 1837, 'six': 1838, 'autism': 1839, 'affect': 1840, 'judge': 1841, 'Basically': 1842, 'romantic': 1843, 'Once': 1844, 'Got': 1845, 'empathy': 1846, 'switch': 1847, 'breath': 1848, 'gained': 1849, 'Lately': 1850, 'ruining': 1851, 'Death': 1852, 'nature': 1853, 'event': 1854, 'threw': 1855, 'large': 1856, 'suggestions': 1857, 'isolation': 1858, 'personally': 1859, 'interaction': 1860, 'responsibilities': 1861, 'knowledge': 1862, 'grief': 1863, 'tries': 1864, 'brothers': 1865, 'sisters': 1866, 'resources': 1867, 'throwing': 1868, 'yelling': 1869, 'wished': 1870, 'Instead': 1871, 'opportunities': 1872, 'religious': 1873, 'majority': 1874, 'interview': 1875, 'succeed': 1876, 'context': 1877, 'Our': 1878, 'various': 1879, '2019': 1880, 'circumstances': 1881, 'military': 1882, 'chances': 1883, 'wrists': 1884, 'kills': 1885, 'reminded': 1886, 'meaningful': 1887, 'unfortunately': 1888, 'promised': 1889, 'conversations': 1890, 'breathing': 1891, 'contemplating': 1892, 'Did': 1893, 'ignoring': 1894, 'apologize': 1895, 'reaction': 1896, 'burn': 1897, 'proper': 1898, 'responsibility': 1899, 'reply': 1900, 'service': 1901, 'involved': 1902, 'deserves': 1903, 'fairly': 1904, 'picked': 1905, 'de': 1906, 'Her': 1907, '+': 1908, 'staring': 1909, 'whom': 1910, 'overthinking': 1911, 'triggered': 1912, '2021': 1913, 'perspective': 1914, 'sooner': 1915, 'teen': 1916, 'argument': 1917, 'recover': 1918, '50': 1919, 'sweet': 1920, 'Covid': 1921, 'built': 1922, 'connect': 1923, 'ur': 1924, 'character': 1925, 'animals': 1926, 'bag': 1927, 'swear': 1928, 'dude': 1929, 'believed': 1930, 'hiding': 1931, 'opposite': 1932, 'functioning': 1933, 'grandmother': 1934, 'anytime': 1935, 'methods': 1936, 'higher': 1937, 'IS': 1938, 'Really': 1939, 'window': 1940, 'myself.I': 1941, 'crush': 1942, 'specific': 1943, 'income': 1944, 'played': 1945, 'choices': 1946, 'song': 1947, 'religion': 1948, 'Something': 1949, 'Trying': 1950, 'pieces': 1951, 'guts': 1952, 'distant': 1953, 'rely': 1954, 'paper': 1955, 'arm': 1956, 'disgusted': 1957, 'illnesses': 1958, 'based': 1959, 'surrounded': 1960, 'tiny': 1961, 'victim': 1962, 'opening': 1963, 'thrown': 1964, 'neither': 1965, 'cost': 1966, 'inevitable': 1967, 'session': 1968, 'concerned': 1969, 'impact': 1970, 'pure': 1971, 'slightly': 1972, 'life.I': 1973, 'countless': 1974, 'ourselves': 1975, 'expecting': 1976, 'signs': 1977, 'Wish': 1978, 'habits': 1979, 'rude': 1980, 'throat': 1981, 'affected': 1982, 'tv': 1983, 'sharing': 1984, 'react': 1985, 'conscious': 1986, 'dramatic': 1987, 'atleast': 1988, 'buying': 1989, 'Going': 1990, 'minor': 1991, 'Always': 1992, 'porn': 1993, 'responsible': 1994, 'periods': 1995, 'brush': 1996, '28': 1997, 'closed': 1998, 'prison': 1999, 'peers': 2000, 'blow': 2001, 'Therapy': 2002, 'rules': 2003, 'shoot': 2004, 'lt': 2005, 'asks': 2006, 'admitted': 2007, 'fog': 2008, 'worthy': 2009, 'interact': 2010, 'despise': 2011, 'fought': 2012, 'crippling': 2013, 'faking': 2014, 'communicate': 2015, 'following': 2016, 'basis': 2017, 'Love': 2018, 'THIS': 2019, 'english': 2020, 'details': 2021, 'pictures': 2022, 'annoyed': 2023, 'street': 2024, 'funeral': 2025, 'bothering': 2026, 'senior': 2027, 'topic': 2028, 'particular': 2029, 'bright': 2030, 'essentially': 2031, 'natural': 2032, 'verge': 2033, 'cheating': 2034, 'odd': 2035, 'mainly': 2036, 'shake': 2037, 'helpless': 2038, 'Another': 2039, 'prove': 2040, 'opened': 2041, 'faith': 2042, 'delete': 2043, 'surprised': 2044, 'bedroom': 2045, 'dinner': 2046, 'tiring': 2047, 'Zoloft': 2048, 'randomly': 2049, 'connections': 2050, 'bringing': 2051, 'showing': 2052, 'Good': 2053, 'hospitalized': 2054, 'letter': 2055, 'ride': 2056, 'Thinking': 2057, 'disability': 2058, 'wrist': 2059, 'Let': 2060, 'texted': 2061, 'notes': 2062, 'continued': 2063, 't': 2064, 'searching': 2065, 'heavily': 2066, 'parts': 2067, 'sun': 2068, 'pill': 2069, 'direction': 2070, 'shape': 2071, 'committing': 2072, 'brains': 2073, 'freak': 2074, 'release': 2075, 'wage': 2076, 'aside': 2077, 'ten': 2078, 'stops': 2079, 'frustrating': 2080, 'begging': 2081, 'leads': 2082, 'created': 2083, 'autistic': 2084, 'Lost': 2085, 'pulled': 2086, 'downhill': 2087, 'consequences': 2088, 'yelled': 2089, 'applied': 2090, 'M': 2091, 'fixed': 2092, 'Everytime': 2093, 'stranger': 2094, 'continuing': 2095, 'OF': 2096, 'pregnant': 2097, 'comforting': 2098, 'attached': 2099, 'cure': 2100, 'forcing': 2101, 'curious': 2102, 'savings': 2103, 'household': 2104, 'Long': 2105, 'assaulted': 2106, 'remind': 2107, 'invited': 2108, \"'m\": 2109, 'Despite': 2110, 'cover': 2111, 'per': 2112, 'accomplish': 2113, 'deleted': 2114, 'unhealthy': 2115, 'Again': 2116, 'join': 2117, 'August': 2118, 'ALL': 2119, 'unfair': 2120, 'appointments': 2121, 'significant': 2122, 'perhaps': 2123, 'detail': 2124, 'September': 2125, 'Having': 2126, 'Depressed': 2127, 'None': 2128, 'team': 2129, 'source': 2130, 'goddamn': 2131, 'paranoid': 2132, 'freaking': 2133, 'loose': 2134, 'e': 2135, 'evil': 2136, 'Yesterday': 2137, 'affection': 2138, 'earn': 2139, 'differently': 2140, 'someday': 2141, 'ultimately': 2142, 'clue': 2143, 'stage': 2144, 'draw': 2145, 'ghost': 2146, 'cook': 2147, 'lunch': 2148, 'rage': 2149, 'treats': 2150, 'afterwards': 2151, 'frequently': 2152, 'anymore.I': 2153, 'circle': 2154, 'UK': 2155, 'virgin': 2156, 'grandparents': 2157, 'hobby': 2158, 'Especially': 2159, 'blah': 2160, 'spoke': 2161, 'shift': 2162, 'sibling': 2163, 'exact': 2164, 'Probably': 2165, 'texts': 2166, 'agree': 2167, 'bank': 2168, 'certainly': 2169, 's': 2170, 'flat': 2171, 'bare': 2172, 'Almost': 2173, 'TV': 2174, 'More': 2175, 'Sure': 2176, 'Goodbye': 2177, 'DO': 2178, 'WHY': 2179, 'cleaning': 2180, 'track': 2181, 'm': 2182, 'voices': 2183, 'image': 2184, 'cats': 2185, 'version': 2186, 'Although': 2187, 'regardless': 2188, 'box': 2189, 'fed': 2190, 'particularly': 2191, 'shy': 2192, 'advantage': 2193, 'About': 2194, 'chore': 2195, 'raise': 2196, 'irl': 2197, 'surviving': 2198, 'rare': 2199, 'war': 2200, 'checked': 2201, 'cuts': 2202, 'hungry': 2203, 'Looking': 2204, 'toll': 2205, 'aspect': 2206, 'recognize': 2207, 'isolate': 2208, 'dangerous': 2209, 'followed': 2210, 'received': 2211, 'disabled': 2212, 'destroying': 2213, 'numbness': 2214, 'By': 2215, 'addict': 2216, 'med': 2217, 'private': 2218, 'facing': 2219, 'Suicidal': 2220, 'slightest': 2221, 'legs': 2222, 'humanity': 2223, 'practice': 2224, 'drank': 2225, 'hopelessness': 2226, 'fuckin': 2227, 'families': 2228, 'Your': 2229, 'YouTube': 2230, 'Dad': 2231, 'mask': 2232, 'whatsoever': 2233, 'local': 2234, 'brief': 2235, 'accidentally': 2236, 'drown': 2237, 'patient': 2238, 'endure': 2239, 'mid': 2240, 'skinny': 2241, 'taught': 2242, 'standing': 2243, 'complaining': 2244, 'Here': 2245, 'TW': 2246, 'texting': 2247, 'instantly': 2248, 'Hope': 2249, 'AM': 2250, 'Day': 2251, 'subject': 2252, 'His': 2253, 'prior': 2254, 'HATE': 2255, 'acted': 2256, 'journey': 2257, 'nurse': 2258, 'tests': 2259, 'useful': 2260, 'ghosted': 2261, 'offered': 2262, 'sympathy': 2263, 'inpatient': 2264, 'Living': 2265, 'wishes': 2266, 'existential': 2267, 'prevent': 2268, 'screwed': 2269, 'receive': 2270, 'saving': 2271, 'lower': 2272, 'affects': 2273, '3rd': 2274, 'task': 2275, 'Those': 2276, 'rejection': 2277, 'pets': 2278, 'utterly': 2279, 'appetite': 2280, 'Getting': 2281, 'unstable': 2282, 'Unfortunately': 2283, 'training': 2284, 'relatives': 2285, 'agony': 2286, 'yell': 2287, 'dates': 2288, 'teenage': 2289, 'threatened': 2290, 'crash': 2291, 'sucked': 2292, 'sports': 2293, 'draining': 2294, 'harmed': 2295, 'survival': 2296, 'During': 2297, 'screen': 2298, 'block': 2299, 'necessarily': 2300, 'pulling': 2301, 'dollars': 2302, 'hopeful': 2303, 'survived': 2304, 'refused': 2305, 'stare': 2306, 'diet': 2307, 'Either': 2308, '2-3': 2309, 'red': 2310, 'false': 2311, 'embarrassing': 2312, 'relatively': 2313, 'search': 2314, 'FOR': 2315, 'prefer': 2316, 'manic': 2317, 'THAT': 2318, 'acknowledge': 2319, 'plenty': 2320, 'vulnerable': 2321, 'lifestyle': 2322, 'deserved': 2323, 'ungrateful': 2324, 'removed': 2325, 'Time': 2326, 'manager': 2327, 'mild': 2328, 'shaking': 2329, 'pursue': 2330, 'bye': 2331, 'attempting': 2332, 'immediate': 2333, 'Too': 2334, 'moms': 2335, 'cops': 2336, 'realization': 2337, 'validation': 2338, 'truck': 2339, 'relax': 2340, 'remotely': 2341, 'occasionally': 2342, 'btw': 2343, 'points': 2344, 'fucks': 2345, 'government': 2346, 'classmates': 2347, 'questioning': 2348, 'crave': 2349, 'laughed': 2350, 'extent': 2351, 'violent': 2352, 'chores': 2353, 'Monday': 2354, 'JUST': 2355, 'beating': 2356, 'insomnia': 2357, 'School': 2358, 'wedding': 2359, 'naturally': 2360, 'officially': 2361, 'ocd': 2362, 'devastated': 2363, 'conditions': 2364, 'beaten': 2365, 'binge': 2366, 'ik': 2367, 'assume': 2368, 'teens': 2369, 'balls': 2370, 'projects': 2371, 'ease': 2372, 'distraction': 2373, 'psychiatric': 2374, 'w': 2375, 'WANT': 2376, 'project': 2377, 'sell': 2378, 'enjoyment': 2379, 'loop': 2380, 'law': 2381, 'action': 2382, 'animal': 2383, 'evening': 2384, 'Hell': 2385, 'Mom': 2386, 'swings': 2387, 'conclusion': 2388, 'license': 2389, 'March': 2390, 'Two': 2391, 'eu': 2392, 'continues': 2393, 'race': 2394, 'reminds': 2395, 'Back': 2396, 'correct': 2397, 'dirty': 2398, 'independent': 2399, 'silent': 2400, 'BPD': 2401, 'refuses': 2402, 'connected': 2403, 'betrayed': 2404, 'Get': 2405, 'manipulative': 2406, 'walks': 2407, 'science': 2408, 'exit': 2409, 'gaming': 2410, 'benefit': 2411, 'blue': 2412, 'below': 2413, 'uncle': 2414, 'Fucking': 2415, 'pounds': 2416, 'May': 2417, 'tunnel': 2418, 'An': 2419, 'feed': 2420, 'protect': 2421, 'f': 2422, 'whoever': 2423, 'holiday': 2424, 'pit': 2425, 'presence': 2426, 'ER': 2427, 'worries': 2428, 'internship': 2429, 'blaming': 2430, 'adhd': 2431, 'bus': 2432, 'dislike': 2433, 'puts': 2434, 'urges': 2435, 'rate': 2436, 'Wellbutrin': 2437, 'dads': 2438, 'incapable': 2439, 'kitchen': 2440, 'insecurities': 2441, 'ridiculous': 2442, 'passes': 2443, 'New': 2444, 'discovered': 2445, 'Eventually': 2446, 'dies': 2447, '2018': 2448, 'sight': 2449, 'couch': 2450, 'apathy': 2451, 'finds': 2452, 'shared': 2453, 'afterlife': 2454, 'explained': 2455, 'role': 2456, 'ate': 2457, 'drove': 2458, 'prescription': 2459, 'battling': 2460, 'slipping': 2461, 'bitter': 2462, 'lasted': 2463, 'practically': 2464, 'coffee': 2465, 'crashing': 2466, 'highly': 2467, 'gross': 2468, 'psychological': 2469, 'treating': 2470, 'sending': 2471, 'burnt': 2472, 'burned': 2473, 'million': 2474, 'Be': 2475, 'suggested': 2476, 'contribute': 2477, 'permanently': 2478, 'slave': 2479, 'mg': 2480, 'rape': 2481, 'accepting': 2482, 'appearance': 2483, 'Tried': 2484, 'US': 2485, 'dull': 2486, 'separate': 2487, '60': 2488, 'corner': 2489, 'meal': 2490, 'app': 2491, 'hire': 2492, 'Anxiety': 2493, 'cute': 2494, 'pains': 2495, 'surface': 2496, 'socialize': 2497, 'perfectly': 2498, 'thankful': 2499}\n"
     ]
    }
   ],
   "source": [
    "print(word_list)"
   ],
   "metadata": {
    "collapsed": false,
    "pycharm": {
     "name": "#%%\n"
    }
   }
  },
  {
   "cell_type": "code",
   "execution_count": 32,
   "outputs": [
    {
     "name": "stdout",
     "output_type": "stream",
     "text": [
      "[[1. 0.]\n",
      " [1. 0.]\n",
      " [1. 0.]\n",
      " [0. 1.]\n",
      " [1. 0.]]\n"
     ]
    }
   ],
   "source": [
    "varietal_list_o = [top_10_varieties[i] for i in df['label'].tolist()]\n",
    "varietal_list = to_categorical(varietal_list_o)\n",
    "print(varietal_list[0:5])"
   ],
   "metadata": {
    "collapsed": false,
    "pycharm": {
     "name": "#%%\n"
    }
   }
  },
  {
   "cell_type": "code",
   "execution_count": 33,
   "outputs": [
    {
     "name": "stdout",
     "output_type": "stream",
     "text": [
      "[[1. 0.]\n",
      " [1. 0.]\n",
      " [1. 0.]\n",
      " ...\n",
      " [1. 0.]\n",
      " [0. 1.]\n",
      " [0. 1.]]\n"
     ]
    }
   ],
   "source": [
    "max_review_length = 150\n",
    "\n",
    "mapped_list = pad_sequences(mapped_list, maxlen=max_review_length)\n",
    "train_x, test_x, train_y, test_y = train_test_split(mapped_list, varietal_list, test_size=0.2)\n",
    "print(train_y)"
   ],
   "metadata": {
    "collapsed": false,
    "pycharm": {
     "name": "#%%\n"
    }
   }
  },
  {
   "cell_type": "code",
   "execution_count": 34,
   "outputs": [],
   "source": [
    "embedding_vector_length = 64\n",
    "model = Sequential()\n",
    "\n",
    "model.add(Embedding(2500, embedding_vector_length, input_length=max_review_length))\n",
    "model.add(Conv1D(50, 5))\n",
    "model.add(Flatten())\n",
    "model.add(Dense(100, activation='relu'))\n",
    "model.add(Dense(max(varietal_list_o) + 1, activation='softmax'))"
   ],
   "metadata": {
    "collapsed": false,
    "pycharm": {
     "name": "#%%\n"
    }
   }
  },
  {
   "cell_type": "code",
   "execution_count": 35,
   "outputs": [],
   "source": [
    "model.compile(loss='categorical_crossentropy', optimizer='adam', metrics=['accuracy'])"
   ],
   "metadata": {
    "collapsed": false,
    "pycharm": {
     "name": "#%%\n"
    }
   }
  },
  {
   "cell_type": "code",
   "execution_count": 36,
   "outputs": [
    {
     "name": "stdout",
     "output_type": "stream",
     "text": [
      "Epoch 1/50\n",
      "255/255 [==============================] - 1s 4ms/step - loss: 0.6062 - accuracy: 0.6607\n",
      "Epoch 2/50\n",
      "255/255 [==============================] - 1s 4ms/step - loss: 0.4273 - accuracy: 0.8025\n",
      "Epoch 3/50\n",
      "255/255 [==============================] - 1s 4ms/step - loss: 0.2220 - accuracy: 0.9071\n",
      "Epoch 4/50\n",
      "255/255 [==============================] - 1s 3ms/step - loss: 0.0946 - accuracy: 0.9653\n",
      "Epoch 5/50\n",
      "255/255 [==============================] - 1s 3ms/step - loss: 0.0356 - accuracy: 0.9897\n",
      "Epoch 6/50\n",
      "255/255 [==============================] - 1s 4ms/step - loss: 0.0174 - accuracy: 0.9946\n",
      "Epoch 7/50\n",
      "255/255 [==============================] - 1s 3ms/step - loss: 0.0184 - accuracy: 0.9934\n",
      "Epoch 8/50\n",
      "255/255 [==============================] - 1s 3ms/step - loss: 0.0535 - accuracy: 0.9810\n",
      "Epoch 9/50\n",
      "255/255 [==============================] - 1s 3ms/step - loss: 0.0503 - accuracy: 0.9821\n",
      "Epoch 10/50\n",
      "255/255 [==============================] - 1s 4ms/step - loss: 0.0187 - accuracy: 0.9926\n",
      "Epoch 11/50\n",
      "255/255 [==============================] - 1s 4ms/step - loss: 0.0056 - accuracy: 0.9979\n",
      "Epoch 12/50\n",
      "255/255 [==============================] - 1s 4ms/step - loss: 0.0034 - accuracy: 0.9986\n",
      "Epoch 13/50\n",
      "255/255 [==============================] - 1s 4ms/step - loss: 0.0023 - accuracy: 0.9990\n",
      "Epoch 14/50\n",
      "255/255 [==============================] - 1s 4ms/step - loss: 0.0017 - accuracy: 0.9990\n",
      "Epoch 15/50\n",
      "255/255 [==============================] - 1s 4ms/step - loss: 0.0017 - accuracy: 0.9990\n",
      "Epoch 16/50\n",
      "255/255 [==============================] - 1s 4ms/step - loss: 0.0017 - accuracy: 0.9991\n",
      "Epoch 17/50\n",
      "255/255 [==============================] - 1s 4ms/step - loss: 0.0023 - accuracy: 0.9991\n",
      "Epoch 18/50\n",
      "255/255 [==============================] - 1s 4ms/step - loss: 0.0020 - accuracy: 0.9991\n",
      "Epoch 19/50\n",
      "255/255 [==============================] - 1s 4ms/step - loss: 0.0018 - accuracy: 0.9991\n",
      "Epoch 20/50\n",
      "255/255 [==============================] - 1s 3ms/step - loss: 0.0023 - accuracy: 0.9990\n",
      "Epoch 21/50\n",
      "255/255 [==============================] - 1s 4ms/step - loss: 0.0615 - accuracy: 0.9795\n",
      "Epoch 22/50\n",
      "255/255 [==============================] - 1s 4ms/step - loss: 0.0813 - accuracy: 0.9692\n",
      "Epoch 23/50\n",
      "255/255 [==============================] - 1s 4ms/step - loss: 0.0192 - accuracy: 0.9929\n",
      "Epoch 24/50\n",
      "255/255 [==============================] - 1s 4ms/step - loss: 0.0070 - accuracy: 0.9978\n",
      "Epoch 25/50\n",
      "255/255 [==============================] - 1s 4ms/step - loss: 0.0022 - accuracy: 0.9988\n",
      "Epoch 26/50\n",
      "255/255 [==============================] - 1s 4ms/step - loss: 0.0017 - accuracy: 0.9991\n",
      "Epoch 27/50\n",
      "255/255 [==============================] - 1s 4ms/step - loss: 0.0019 - accuracy: 0.9991\n",
      "Epoch 28/50\n",
      "255/255 [==============================] - 1s 3ms/step - loss: 0.0015 - accuracy: 0.9991\n",
      "Epoch 29/50\n",
      "255/255 [==============================] - 1s 4ms/step - loss: 0.0015 - accuracy: 0.9991\n",
      "Epoch 30/50\n",
      "255/255 [==============================] - 1s 4ms/step - loss: 0.0022 - accuracy: 0.9990\n",
      "Epoch 31/50\n",
      "255/255 [==============================] - 1s 3ms/step - loss: 0.0506 - accuracy: 0.9821\n",
      "Epoch 32/50\n",
      "255/255 [==============================] - 1s 4ms/step - loss: 0.0368 - accuracy: 0.9873\n",
      "Epoch 33/50\n",
      "255/255 [==============================] - 1s 4ms/step - loss: 0.0092 - accuracy: 0.9965\n",
      "Epoch 34/50\n",
      "255/255 [==============================] - 1s 4ms/step - loss: 0.0034 - accuracy: 0.9987\n",
      "Epoch 35/50\n",
      "255/255 [==============================] - 1s 4ms/step - loss: 0.0017 - accuracy: 0.9991\n",
      "Epoch 36/50\n",
      "255/255 [==============================] - 1s 4ms/step - loss: 0.0019 - accuracy: 0.9990\n",
      "Epoch 37/50\n",
      "255/255 [==============================] - 1s 4ms/step - loss: 0.0015 - accuracy: 0.9992\n",
      "Epoch 38/50\n",
      "255/255 [==============================] - 1s 4ms/step - loss: 0.0013 - accuracy: 0.9993\n",
      "Epoch 39/50\n",
      "255/255 [==============================] - 1s 4ms/step - loss: 0.0013 - accuracy: 0.9993\n",
      "Epoch 40/50\n",
      "255/255 [==============================] - 1s 4ms/step - loss: 0.0015 - accuracy: 0.9992\n",
      "Epoch 41/50\n",
      "255/255 [==============================] - 1s 4ms/step - loss: 0.0022 - accuracy: 0.9992\n",
      "Epoch 42/50\n",
      "255/255 [==============================] - 1s 4ms/step - loss: 0.0087 - accuracy: 0.9982\n",
      "Epoch 43/50\n",
      "255/255 [==============================] - 1s 4ms/step - loss: 0.0723 - accuracy: 0.9767\n",
      "Epoch 44/50\n",
      "255/255 [==============================] - 1s 4ms/step - loss: 0.0218 - accuracy: 0.9924\n",
      "Epoch 45/50\n",
      "255/255 [==============================] - 1s 4ms/step - loss: 0.0038 - accuracy: 0.9982\n",
      "Epoch 46/50\n",
      "255/255 [==============================] - 1s 4ms/step - loss: 0.0021 - accuracy: 0.9991\n",
      "Epoch 47/50\n",
      "255/255 [==============================] - 1s 4ms/step - loss: 0.0013 - accuracy: 0.9992\n",
      "Epoch 48/50\n",
      "255/255 [==============================] - 1s 4ms/step - loss: 0.0014 - accuracy: 0.9991\n",
      "Epoch 49/50\n",
      "255/255 [==============================] - 1s 4ms/step - loss: 0.0012 - accuracy: 0.9993\n",
      "Epoch 50/50\n",
      "255/255 [==============================] - 1s 4ms/step - loss: 0.0012 - accuracy: 0.9993\n"
     ]
    }
   ],
   "source": [
    "history = model.fit(train_x, train_y, epochs=50, batch_size=64)"
   ],
   "metadata": {
    "collapsed": false,
    "pycharm": {
     "name": "#%%\n"
    }
   }
  },
  {
   "cell_type": "code",
   "execution_count": 37,
   "outputs": [
    {
     "name": "stdout",
     "output_type": "stream",
     "text": [
      "128/128 [==============================] - 0s 1ms/step\n",
      "0.6410508224895655\n"
     ]
    }
   ],
   "source": [
    "y_score = model.predict(test_x)\n",
    "y_score = [[1 if i == max(sc) else 0 for i in sc] for sc in y_score]\n",
    "n_right = 0\n",
    "for i in range(len(y_score)):\n",
    "    if all(y_score[i][j] == test_y[i][j] for j in range(len(y_score[i]))):\n",
    "        n_right += 1\n",
    "print(n_right / len(y_score))"
   ],
   "metadata": {
    "collapsed": false,
    "pycharm": {
     "name": "#%%\n"
    }
   }
  },
  {
   "cell_type": "code",
   "execution_count": 38,
   "outputs": [
    {
     "name": "stdout",
     "output_type": "stream",
     "text": [
      "128/128 [==============================] - 0s 1ms/step\n",
      "0.33022342253866926\n"
     ]
    }
   ],
   "source": [
    "y_score = model.predict(test_x)\n",
    "correct = 0\n",
    "\n",
    "for i in range(len(y_score)):\n",
    "    # print(y_score[i])\n",
    "    # print(test_y[i])\n",
    "    if test_y[i][0] > test_y[i][1] and y_score[i][0] > y_score[i][1]:\n",
    "        correct += 1\n",
    "\n",
    "\n",
    "print(correct / len(y_score))"
   ],
   "metadata": {
    "collapsed": false,
    "pycharm": {
     "name": "#%%\n"
    }
   }
  },
  {
   "cell_type": "code",
   "execution_count": 38,
   "outputs": [],
   "source": [],
   "metadata": {
    "collapsed": false,
    "pycharm": {
     "name": "#%%\n"
    }
   }
  }
 ],
 "metadata": {
  "kernelspec": {
   "display_name": "Python 3",
   "language": "python",
   "name": "python3"
  },
  "language_info": {
   "codemirror_mode": {
    "name": "ipython",
    "version": 2
   },
   "file_extension": ".py",
   "mimetype": "text/x-python",
   "name": "python",
   "nbconvert_exporter": "python",
   "pygments_lexer": "ipython2",
   "version": "2.7.6"
  }
 },
 "nbformat": 4,
 "nbformat_minor": 0
}