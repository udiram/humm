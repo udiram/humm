{
 "cells": [
  {
   "cell_type": "code",
   "execution_count": 1,
   "outputs": [],
   "source": [
    "import pickle\n",
    "import pandas as pd\n",
    "import re\n",
    "import nltk\n",
    "from nltk.corpus import stopwords\n",
    "from nltk.stem import WordNetLemmatizer\n",
    "from sklearn.feature_extraction.text import TfidfVectorizer\n",
    "from sklearn.model_selection import train_test_split\n",
    "from sklearn.feature_selection import chi2\n",
    "import numpy as np"
   ],
   "metadata": {
    "collapsed": false,
    "pycharm": {
     "name": "#%%\n"
    }
   }
  },
  {
   "cell_type": "code",
   "execution_count": 4,
   "outputs": [
    {
     "data": {
      "text/plain": "                                                text         label  \\\n0  I recently went through a breakup and she said...    depression   \n1  I do not know how to navigate these feelings, ...    depression   \n2  So I have been with my bf for 5 months , and h...    depression   \n3  I am so exhausted of this. Just when I think I...  SuicideWatch   \n4  I have been severly bullied since i was 5 till...    depression   \n\n   text_length  \n0          543  \n1         1510  \n2          625  \n3         1704  \n4         1006  ",
      "text/html": "<div>\n<style scoped>\n    .dataframe tbody tr th:only-of-type {\n        vertical-align: middle;\n    }\n\n    .dataframe tbody tr th {\n        vertical-align: top;\n    }\n\n    .dataframe thead th {\n        text-align: right;\n    }\n</style>\n<table border=\"1\" class=\"dataframe\">\n  <thead>\n    <tr style=\"text-align: right;\">\n      <th></th>\n      <th>text</th>\n      <th>label</th>\n      <th>text_length</th>\n    </tr>\n  </thead>\n  <tbody>\n    <tr>\n      <th>0</th>\n      <td>I recently went through a breakup and she said...</td>\n      <td>depression</td>\n      <td>543</td>\n    </tr>\n    <tr>\n      <th>1</th>\n      <td>I do not know how to navigate these feelings, ...</td>\n      <td>depression</td>\n      <td>1510</td>\n    </tr>\n    <tr>\n      <th>2</th>\n      <td>So I have been with my bf for 5 months , and h...</td>\n      <td>depression</td>\n      <td>625</td>\n    </tr>\n    <tr>\n      <th>3</th>\n      <td>I am so exhausted of this. Just when I think I...</td>\n      <td>SuicideWatch</td>\n      <td>1704</td>\n    </tr>\n    <tr>\n      <th>4</th>\n      <td>I have been severly bullied since i was 5 till...</td>\n      <td>depression</td>\n      <td>1006</td>\n    </tr>\n  </tbody>\n</table>\n</div>"
     },
     "execution_count": 4,
     "metadata": {},
     "output_type": "execute_result"
    }
   ],
   "source": [
    "df = pd.read_csv('data/reddit_unencode_length.csv', index_col=0)\n",
    "df.head()"
   ],
   "metadata": {
    "collapsed": false,
    "pycharm": {
     "name": "#%%\n"
    }
   }
  },
  {
   "cell_type": "code",
   "execution_count": 6,
   "outputs": [
    {
     "data": {
      "text/plain": "'I do not know how to navigate these feelings, not that its a new feeling by any stretch. I just do not understand how I can go on from being so pleasantly fine to suicidal and self loathing within in minutes and not be able to step out of it. I have been suffering from poor mental health for over 10 years and I am about to turn 26 next week and I feel so ashamed for how serious my negative thoughts are. Covid was a hard transition especially having moved to a new city a few months before everything started locking down, but now I am here and settled and I have a loving partner, a great connection to their family, a really fun job and I finished my degree. But when I stop and look around I feel like nothing will ever be good enough for me and I will never be good enough, I will always have skin problems and bad teeth and acne. I will never be the artist I used to be (I have a Bachelor in fine art) because I do not have the same drive or passionate that I used to have for it. I will never have the career I built my entire plan around because I am losing my interest in art. I will never have the relationship with my family that I want because I could not stand to stay in my hometown. All I can feel is this tornado of my failures swirling around me all the damn time. It just seems that no matter how many positives come my way they do not last long enough to out weight the negatives. I do not really know what I am looking for I guess I just wanted to say this out loud, or whatever. 0 to 100'"
     },
     "execution_count": 6,
     "metadata": {},
     "output_type": "execute_result"
    }
   ],
   "source": [
    "df.loc[1]['text']"
   ],
   "metadata": {
    "collapsed": false,
    "pycharm": {
     "name": "#%%\n"
    }
   }
  },
  {
   "cell_type": "code",
   "execution_count": 8,
   "outputs": [],
   "source": [
    "# \\r and \\n\n",
    "df['Content_Parsed_1'] = df['text'].str.replace(\"\\r\", \" \")\n",
    "df['Content_Parsed_1'] = df['Content_Parsed_1'].str.replace(\"\\n\", \" \")\n",
    "df['Content_Parsed_1'] = df['Content_Parsed_1'].str.replace(\"    \", \" \")"
   ],
   "metadata": {
    "collapsed": false,
    "pycharm": {
     "name": "#%%\n"
    }
   }
  },
  {
   "cell_type": "code",
   "execution_count": 9,
   "outputs": [
    {
     "data": {
      "text/plain": "\"Mr Greenspan's\""
     },
     "execution_count": 9,
     "metadata": {},
     "output_type": "execute_result"
    }
   ],
   "source": [
    "text = \"Mr Greenspan\\'s\"\n",
    "text"
   ],
   "metadata": {
    "collapsed": false,
    "pycharm": {
     "name": "#%%\n"
    }
   }
  },
  {
   "cell_type": "code",
   "execution_count": 10,
   "outputs": [],
   "source": [
    "# \" when quoting text\n",
    "df['Content_Parsed_1'] = df['Content_Parsed_1'].str.replace('\"', '')"
   ],
   "metadata": {
    "collapsed": false,
    "pycharm": {
     "name": "#%%\n"
    }
   }
  },
  {
   "cell_type": "code",
   "execution_count": 11,
   "outputs": [],
   "source": [
    "# Lowercasing the text\n",
    "df['Content_Parsed_2'] = df['Content_Parsed_1'].str.lower()"
   ],
   "metadata": {
    "collapsed": false,
    "pycharm": {
     "name": "#%%\n"
    }
   }
  },
  {
   "cell_type": "code",
   "execution_count": 12,
   "outputs": [
    {
     "name": "stderr",
     "output_type": "stream",
     "text": [
      "C:\\Users\\sathy\\AppData\\Local\\Temp\\ipykernel_19676\\1781969415.py:5: FutureWarning: The default value of regex will change from True to False in a future version. In addition, single character regular expressions will *not* be treated as literal strings when regex=True.\n",
      "  df['Content_Parsed_3'] = df['Content_Parsed_3'].str.replace(punct_sign, '')\n"
     ]
    }
   ],
   "source": [
    "punctuation_signs = list(\"?:!.,;\")\n",
    "df['Content_Parsed_3'] = df['Content_Parsed_2']\n",
    "\n",
    "for punct_sign in punctuation_signs:\n",
    "    df['Content_Parsed_3'] = df['Content_Parsed_3'].str.replace(punct_sign, '')"
   ],
   "metadata": {
    "collapsed": false,
    "pycharm": {
     "name": "#%%\n"
    }
   }
  },
  {
   "cell_type": "code",
   "execution_count": 13,
   "outputs": [],
   "source": [
    "df['Content_Parsed_4'] = df['Content_Parsed_3'].str.replace(\"'s\", \"\")"
   ],
   "metadata": {
    "collapsed": false,
    "pycharm": {
     "name": "#%%\n"
    }
   }
  },
  {
   "cell_type": "code",
   "execution_count": 14,
   "outputs": [
    {
     "name": "stdout",
     "output_type": "stream",
     "text": [
      "------------------------------------------------------------\n"
     ]
    },
    {
     "name": "stderr",
     "output_type": "stream",
     "text": [
      "[nltk_data] Downloading package punkt to\n",
      "[nltk_data]     C:\\Users\\sathy\\AppData\\Roaming\\nltk_data...\n",
      "[nltk_data]   Package punkt is already up-to-date!\n",
      "[nltk_data] Downloading package wordnet to\n",
      "[nltk_data]     C:\\Users\\sathy\\AppData\\Roaming\\nltk_data...\n",
      "[nltk_data]   Package wordnet is already up-to-date!\n"
     ]
    },
    {
     "data": {
      "text/plain": "True"
     },
     "execution_count": 14,
     "metadata": {},
     "output_type": "execute_result"
    }
   ],
   "source": [
    "# Downloading punkt and wordnet from NLTK\n",
    "nltk.download('punkt')\n",
    "print(\"------------------------------------------------------------\")\n",
    "nltk.download('wordnet')"
   ],
   "metadata": {
    "collapsed": false,
    "pycharm": {
     "name": "#%%\n"
    }
   }
  },
  {
   "cell_type": "code",
   "execution_count": 15,
   "outputs": [],
   "source": [
    "# Saving the lemmatizer into an object\n",
    "wordnet_lemmatizer = WordNetLemmatizer()"
   ],
   "metadata": {
    "collapsed": false,
    "pycharm": {
     "name": "#%%\n"
    }
   }
  },
  {
   "cell_type": "code",
   "execution_count": 16,
   "outputs": [],
   "source": [
    "nrows = len(df)\n",
    "lemmatized_text_list = []\n",
    "\n",
    "for row in range(0, nrows):\n",
    "\n",
    "    # Create an empty list containing lemmatized words\n",
    "    lemmatized_list = []\n",
    "\n",
    "    # Save the text and its words into an object\n",
    "    text = df.loc[row]['Content_Parsed_4']\n",
    "    text_words = text.split(\" \")\n",
    "\n",
    "    # Iterate through every word to lemmatize\n",
    "    for word in text_words:\n",
    "        lemmatized_list.append(wordnet_lemmatizer.lemmatize(word, pos=\"v\"))\n",
    "\n",
    "    # Join the list\n",
    "    lemmatized_text = \" \".join(lemmatized_list)\n",
    "\n",
    "    # Append to the list containing the texts\n",
    "    lemmatized_text_list.append(lemmatized_text)"
   ],
   "metadata": {
    "collapsed": false,
    "pycharm": {
     "name": "#%%\n"
    }
   }
  },
  {
   "cell_type": "code",
   "execution_count": 18,
   "outputs": [
    {
     "data": {
      "text/plain": "                                                text         label  \\\n0  I recently went through a breakup and she said...    depression   \n1  I do not know how to navigate these feelings, ...    depression   \n2  So I have been with my bf for 5 months , and h...    depression   \n3  I am so exhausted of this. Just when I think I...  SuicideWatch   \n4  I have been severly bullied since i was 5 till...    depression   \n\n   text_length                                   Content_Parsed_1  \\\n0          543  I recently went through a breakup and she said...   \n1         1510  I do not know how to navigate these feelings, ...   \n2          625  So I have been with my bf for 5 months , and h...   \n3         1704  I am so exhausted of this. Just when I think I...   \n4         1006  I have been severly bullied since i was 5 till...   \n\n                                    Content_Parsed_2  \\\n0  i recently went through a breakup and she said...   \n1  i do not know how to navigate these feelings, ...   \n2  so i have been with my bf for 5 months , and h...   \n3  i am so exhausted of this. just when i think i...   \n4  i have been severly bullied since i was 5 till...   \n\n                                    Content_Parsed_3  \\\n0  i recently went through a breakup and she said...   \n1  i do not know how to navigate these feelings n...   \n2  so i have been with my bf for 5 months  and he...   \n3  i am so exhausted of this just when i think i ...   \n4  i have been severly bullied since i was 5 till...   \n\n                                    Content_Parsed_4  \\\n0  i recently went through a breakup and she said...   \n1  i do not know how to navigate these feelings n...   \n2  so i have been with my bf for 5 months  and he...   \n3  i am so exhausted of this just when i think i ...   \n4  i have been severly bullied since i was 5 till...   \n\n                                    Content_Parsed_5  \n0  i recently go through a breakup and she say sh...  \n1  i do not know how to navigate these feel not t...  \n2  so i have be with my bf for 5 months  and he a...  \n3  i be so exhaust of this just when i think i ca...  \n4  i have be severly bully since i be 5 till 15 t...  ",
      "text/html": "<div>\n<style scoped>\n    .dataframe tbody tr th:only-of-type {\n        vertical-align: middle;\n    }\n\n    .dataframe tbody tr th {\n        vertical-align: top;\n    }\n\n    .dataframe thead th {\n        text-align: right;\n    }\n</style>\n<table border=\"1\" class=\"dataframe\">\n  <thead>\n    <tr style=\"text-align: right;\">\n      <th></th>\n      <th>text</th>\n      <th>label</th>\n      <th>text_length</th>\n      <th>Content_Parsed_1</th>\n      <th>Content_Parsed_2</th>\n      <th>Content_Parsed_3</th>\n      <th>Content_Parsed_4</th>\n      <th>Content_Parsed_5</th>\n    </tr>\n  </thead>\n  <tbody>\n    <tr>\n      <th>0</th>\n      <td>I recently went through a breakup and she said...</td>\n      <td>depression</td>\n      <td>543</td>\n      <td>I recently went through a breakup and she said...</td>\n      <td>i recently went through a breakup and she said...</td>\n      <td>i recently went through a breakup and she said...</td>\n      <td>i recently went through a breakup and she said...</td>\n      <td>i recently go through a breakup and she say sh...</td>\n    </tr>\n    <tr>\n      <th>1</th>\n      <td>I do not know how to navigate these feelings, ...</td>\n      <td>depression</td>\n      <td>1510</td>\n      <td>I do not know how to navigate these feelings, ...</td>\n      <td>i do not know how to navigate these feelings, ...</td>\n      <td>i do not know how to navigate these feelings n...</td>\n      <td>i do not know how to navigate these feelings n...</td>\n      <td>i do not know how to navigate these feel not t...</td>\n    </tr>\n    <tr>\n      <th>2</th>\n      <td>So I have been with my bf for 5 months , and h...</td>\n      <td>depression</td>\n      <td>625</td>\n      <td>So I have been with my bf for 5 months , and h...</td>\n      <td>so i have been with my bf for 5 months , and h...</td>\n      <td>so i have been with my bf for 5 months  and he...</td>\n      <td>so i have been with my bf for 5 months  and he...</td>\n      <td>so i have be with my bf for 5 months  and he a...</td>\n    </tr>\n    <tr>\n      <th>3</th>\n      <td>I am so exhausted of this. Just when I think I...</td>\n      <td>SuicideWatch</td>\n      <td>1704</td>\n      <td>I am so exhausted of this. Just when I think I...</td>\n      <td>i am so exhausted of this. just when i think i...</td>\n      <td>i am so exhausted of this just when i think i ...</td>\n      <td>i am so exhausted of this just when i think i ...</td>\n      <td>i be so exhaust of this just when i think i ca...</td>\n    </tr>\n    <tr>\n      <th>4</th>\n      <td>I have been severly bullied since i was 5 till...</td>\n      <td>depression</td>\n      <td>1006</td>\n      <td>I have been severly bullied since i was 5 till...</td>\n      <td>i have been severly bullied since i was 5 till...</td>\n      <td>i have been severly bullied since i was 5 till...</td>\n      <td>i have been severly bullied since i was 5 till...</td>\n      <td>i have be severly bully since i be 5 till 15 t...</td>\n    </tr>\n  </tbody>\n</table>\n</div>"
     },
     "execution_count": 18,
     "metadata": {},
     "output_type": "execute_result"
    }
   ],
   "source": [
    "df['Content_Parsed_5'] = lemmatized_text_list\n",
    "df.head()"
   ],
   "metadata": {
    "collapsed": false,
    "pycharm": {
     "name": "#%%\n"
    }
   }
  },
  {
   "cell_type": "code",
   "execution_count": 19,
   "outputs": [
    {
     "name": "stderr",
     "output_type": "stream",
     "text": [
      "[nltk_data] Downloading package stopwords to\n",
      "[nltk_data]     C:\\Users\\sathy\\AppData\\Roaming\\nltk_data...\n",
      "[nltk_data]   Package stopwords is already up-to-date!\n"
     ]
    },
    {
     "data": {
      "text/plain": "True"
     },
     "execution_count": 19,
     "metadata": {},
     "output_type": "execute_result"
    }
   ],
   "source": [
    "# Downloading the stop words list\n",
    "nltk.download('stopwords')"
   ],
   "metadata": {
    "collapsed": false,
    "pycharm": {
     "name": "#%%\n"
    }
   }
  },
  {
   "cell_type": "code",
   "execution_count": 20,
   "outputs": [],
   "source": [
    "# Loading the stop words in english\n",
    "stop_words = list(stopwords.words('english'))"
   ],
   "metadata": {
    "collapsed": false,
    "pycharm": {
     "name": "#%%\n"
    }
   }
  },
  {
   "cell_type": "code",
   "execution_count": 21,
   "outputs": [
    {
     "data": {
      "text/plain": "['i', 'me', 'my', 'myself', 'we', 'our', 'ours', 'ourselves', 'you', \"you're\"]"
     },
     "execution_count": 21,
     "metadata": {},
     "output_type": "execute_result"
    }
   ],
   "source": [
    "stop_words[0:10]"
   ],
   "metadata": {
    "collapsed": false,
    "pycharm": {
     "name": "#%%\n"
    }
   }
  },
  {
   "cell_type": "code",
   "execution_count": 22,
   "outputs": [
    {
     "data": {
      "text/plain": "'StopWord eating a meal'"
     },
     "execution_count": 22,
     "metadata": {},
     "output_type": "execute_result"
    }
   ],
   "source": [
    "example = \"me eating a meal\"\n",
    "word = \"me\"\n",
    "\n",
    "# The regular expression is:\n",
    "regex = r\"\\b\" + word + r\"\\b\"  # we need to build it like that to work properly\n",
    "\n",
    "re.sub(regex, \"StopWord\", example)"
   ],
   "metadata": {
    "collapsed": false,
    "pycharm": {
     "name": "#%%\n"
    }
   }
  },
  {
   "cell_type": "code",
   "execution_count": 23,
   "outputs": [
    {
     "name": "stderr",
     "output_type": "stream",
     "text": [
      "C:\\Users\\sathy\\AppData\\Local\\Temp\\ipykernel_19676\\3814005232.py:6: FutureWarning: The default value of regex will change from True to False in a future version.\n",
      "  df['Content_Parsed_6'] = df['Content_Parsed_6'].str.replace(regex_stopword, '')\n"
     ]
    }
   ],
   "source": [
    "df['Content_Parsed_6'] = df['Content_Parsed_5']\n",
    "\n",
    "for stop_word in stop_words:\n",
    "\n",
    "    regex_stopword = r\"\\b\" + stop_word + r\"\\b\"\n",
    "    df['Content_Parsed_6'] = df['Content_Parsed_6'].str.replace(regex_stopword, '')"
   ],
   "metadata": {
    "collapsed": false,
    "pycharm": {
     "name": "#%%\n"
    }
   }
  },
  {
   "cell_type": "code",
   "execution_count": 29,
   "outputs": [],
   "source": [
    "df.to_csv('data/reddit_unencode_length_lemmatized_allsteps.csv')"
   ],
   "metadata": {
    "collapsed": false,
    "pycharm": {
     "name": "#%%\n"
    }
   }
  },
  {
   "cell_type": "code",
   "execution_count": 30,
   "outputs": [
    {
     "data": {
      "text/plain": "                                                text         label  \\\n0  I recently went through a breakup and she said...    depression   \n1  I do not know how to navigate these feelings, ...    depression   \n2  So I have been with my bf for 5 months , and h...    depression   \n3  I am so exhausted of this. Just when I think I...  SuicideWatch   \n4  I have been severly bullied since i was 5 till...    depression   \n\n                                      Content_Parsed  \n0   recently go   breakup   say  still want   fri...  \n1     know   navigate  feel     new feel   stretc...  \n2        bf  5 months    already tell    depress ...  \n3     exhaust      think   finally rest    think ...  \n4     severly bully since   5 till 15  result    ...  ",
      "text/html": "<div>\n<style scoped>\n    .dataframe tbody tr th:only-of-type {\n        vertical-align: middle;\n    }\n\n    .dataframe tbody tr th {\n        vertical-align: top;\n    }\n\n    .dataframe thead th {\n        text-align: right;\n    }\n</style>\n<table border=\"1\" class=\"dataframe\">\n  <thead>\n    <tr style=\"text-align: right;\">\n      <th></th>\n      <th>text</th>\n      <th>label</th>\n      <th>Content_Parsed</th>\n    </tr>\n  </thead>\n  <tbody>\n    <tr>\n      <th>0</th>\n      <td>I recently went through a breakup and she said...</td>\n      <td>depression</td>\n      <td>recently go   breakup   say  still want   fri...</td>\n    </tr>\n    <tr>\n      <th>1</th>\n      <td>I do not know how to navigate these feelings, ...</td>\n      <td>depression</td>\n      <td>know   navigate  feel     new feel   stretc...</td>\n    </tr>\n    <tr>\n      <th>2</th>\n      <td>So I have been with my bf for 5 months , and h...</td>\n      <td>depression</td>\n      <td>bf  5 months    already tell    depress ...</td>\n    </tr>\n    <tr>\n      <th>3</th>\n      <td>I am so exhausted of this. Just when I think I...</td>\n      <td>SuicideWatch</td>\n      <td>exhaust      think   finally rest    think ...</td>\n    </tr>\n    <tr>\n      <th>4</th>\n      <td>I have been severly bullied since i was 5 till...</td>\n      <td>depression</td>\n      <td>severly bully since   5 till 15  result    ...</td>\n    </tr>\n  </tbody>\n</table>\n</div>"
     },
     "execution_count": 30,
     "metadata": {},
     "output_type": "execute_result"
    }
   ],
   "source": [
    "df.head()"
   ],
   "metadata": {
    "collapsed": false,
    "pycharm": {
     "name": "#%%\n"
    }
   }
  },
  {
   "cell_type": "code",
   "execution_count": 32,
   "outputs": [
    {
     "data": {
      "text/plain": "                                                text         label  \\\n0  I recently went through a breakup and she said...    depression   \n1  I do not know how to navigate these feelings, ...    depression   \n2  So I have been with my bf for 5 months , and h...    depression   \n3  I am so exhausted of this. Just when I think I...  SuicideWatch   \n4  I have been severly bullied since i was 5 till...    depression   \n\n                                      Content_Parsed  \n0   recently go   breakup   say  still want   fri...  \n1     know   navigate  feel     new feel   stretc...  \n2        bf  5 months    already tell    depress ...  \n3     exhaust      think   finally rest    think ...  \n4     severly bully since   5 till 15  result    ...  ",
      "text/html": "<div>\n<style scoped>\n    .dataframe tbody tr th:only-of-type {\n        vertical-align: middle;\n    }\n\n    .dataframe tbody tr th {\n        vertical-align: top;\n    }\n\n    .dataframe thead th {\n        text-align: right;\n    }\n</style>\n<table border=\"1\" class=\"dataframe\">\n  <thead>\n    <tr style=\"text-align: right;\">\n      <th></th>\n      <th>text</th>\n      <th>label</th>\n      <th>Content_Parsed</th>\n    </tr>\n  </thead>\n  <tbody>\n    <tr>\n      <th>0</th>\n      <td>I recently went through a breakup and she said...</td>\n      <td>depression</td>\n      <td>recently go   breakup   say  still want   fri...</td>\n    </tr>\n    <tr>\n      <th>1</th>\n      <td>I do not know how to navigate these feelings, ...</td>\n      <td>depression</td>\n      <td>know   navigate  feel     new feel   stretc...</td>\n    </tr>\n    <tr>\n      <th>2</th>\n      <td>So I have been with my bf for 5 months , and h...</td>\n      <td>depression</td>\n      <td>bf  5 months    already tell    depress ...</td>\n    </tr>\n    <tr>\n      <th>3</th>\n      <td>I am so exhausted of this. Just when I think I...</td>\n      <td>SuicideWatch</td>\n      <td>exhaust      think   finally rest    think ...</td>\n    </tr>\n    <tr>\n      <th>4</th>\n      <td>I have been severly bullied since i was 5 till...</td>\n      <td>depression</td>\n      <td>severly bully since   5 till 15  result    ...</td>\n    </tr>\n  </tbody>\n</table>\n</div>"
     },
     "execution_count": 32,
     "metadata": {},
     "output_type": "execute_result"
    }
   ],
   "source": [
    "list_columns = [\"text\", \"label\", \"Content_Parsed_6\"]\n",
    "df = df[list_columns]\n",
    "df = df.rename(columns={'Content_Parsed_6': 'Content_Parsed'})\n",
    "df.head()"
   ],
   "metadata": {
    "collapsed": false,
    "pycharm": {
     "name": "#%%\n"
    }
   }
  },
  {
   "cell_type": "code",
   "execution_count": 33,
   "outputs": [],
   "source": [
    "category_codes = {\n",
    "    'depression': 0,\n",
    "    'SuicideWatch': 1\n",
    "}"
   ],
   "metadata": {
    "collapsed": false,
    "pycharm": {
     "name": "#%%\n"
    }
   }
  },
  {
   "cell_type": "code",
   "execution_count": 35,
   "outputs": [
    {
     "data": {
      "text/plain": "                                                text         label  \\\n0  I recently went through a breakup and she said...    depression   \n1  I do not know how to navigate these feelings, ...    depression   \n2  So I have been with my bf for 5 months , and h...    depression   \n3  I am so exhausted of this. Just when I think I...  SuicideWatch   \n4  I have been severly bullied since i was 5 till...    depression   \n\n                                      Content_Parsed  Category_Code  \n0   recently go   breakup   say  still want   fri...              0  \n1     know   navigate  feel     new feel   stretc...              0  \n2        bf  5 months    already tell    depress ...              0  \n3     exhaust      think   finally rest    think ...              1  \n4     severly bully since   5 till 15  result    ...              0  ",
      "text/html": "<div>\n<style scoped>\n    .dataframe tbody tr th:only-of-type {\n        vertical-align: middle;\n    }\n\n    .dataframe tbody tr th {\n        vertical-align: top;\n    }\n\n    .dataframe thead th {\n        text-align: right;\n    }\n</style>\n<table border=\"1\" class=\"dataframe\">\n  <thead>\n    <tr style=\"text-align: right;\">\n      <th></th>\n      <th>text</th>\n      <th>label</th>\n      <th>Content_Parsed</th>\n      <th>Category_Code</th>\n    </tr>\n  </thead>\n  <tbody>\n    <tr>\n      <th>0</th>\n      <td>I recently went through a breakup and she said...</td>\n      <td>depression</td>\n      <td>recently go   breakup   say  still want   fri...</td>\n      <td>0</td>\n    </tr>\n    <tr>\n      <th>1</th>\n      <td>I do not know how to navigate these feelings, ...</td>\n      <td>depression</td>\n      <td>know   navigate  feel     new feel   stretc...</td>\n      <td>0</td>\n    </tr>\n    <tr>\n      <th>2</th>\n      <td>So I have been with my bf for 5 months , and h...</td>\n      <td>depression</td>\n      <td>bf  5 months    already tell    depress ...</td>\n      <td>0</td>\n    </tr>\n    <tr>\n      <th>3</th>\n      <td>I am so exhausted of this. Just when I think I...</td>\n      <td>SuicideWatch</td>\n      <td>exhaust      think   finally rest    think ...</td>\n      <td>1</td>\n    </tr>\n    <tr>\n      <th>4</th>\n      <td>I have been severly bullied since i was 5 till...</td>\n      <td>depression</td>\n      <td>severly bully since   5 till 15  result    ...</td>\n      <td>0</td>\n    </tr>\n  </tbody>\n</table>\n</div>"
     },
     "execution_count": 35,
     "metadata": {},
     "output_type": "execute_result"
    }
   ],
   "source": [
    "# Category mapping\n",
    "df['Category_Code'] = df['label']\n",
    "df = df.replace({'Category_Code':category_codes})\n",
    "df.head()"
   ],
   "metadata": {
    "collapsed": false,
    "pycharm": {
     "name": "#%%\n"
    }
   }
  },
  {
   "cell_type": "code",
   "execution_count": 38,
   "outputs": [],
   "source": [
    "X_train, X_test, y_train, y_test = train_test_split(df['Content_Parsed'],\n",
    "                                                    df['Category_Code'],\n",
    "                                                    test_size=0.15,\n",
    "                                                    random_state=8)"
   ],
   "metadata": {
    "collapsed": false,
    "pycharm": {
     "name": "#%%\n"
    }
   }
  },
  {
   "cell_type": "code",
   "execution_count": 39,
   "outputs": [],
   "source": [
    "# Parameter election\n",
    "ngram_range = (1,2)\n",
    "min_df = 10\n",
    "max_df = 1.\n",
    "max_features = 300"
   ],
   "metadata": {
    "collapsed": false,
    "pycharm": {
     "name": "#%%\n"
    }
   }
  },
  {
   "cell_type": "code",
   "execution_count": 41,
   "outputs": [
    {
     "name": "stdout",
     "output_type": "stream",
     "text": [
      "(17308, 300)\n",
      "(3055, 300)\n"
     ]
    }
   ],
   "source": [
    "tfidf = TfidfVectorizer(encoding='utf-8',\n",
    "                        ngram_range=ngram_range,\n",
    "                        stop_words=None,\n",
    "                        lowercase=False,\n",
    "                        max_df=max_df,\n",
    "                        min_df=min_df,\n",
    "                        max_features=max_features,\n",
    "                        norm='l2',\n",
    "                        sublinear_tf=True)\n",
    "\n",
    "features_train = tfidf.fit_transform(X_train).toarray()\n",
    "labels_train = y_train\n",
    "print(features_train.shape)\n",
    "\n",
    "features_test = tfidf.transform(X_test).toarray()\n",
    "labels_test = y_test\n",
    "print(features_test.shape)"
   ],
   "metadata": {
    "collapsed": false,
    "pycharm": {
     "name": "#%%\n"
    }
   }
  },
  {
   "cell_type": "code",
   "execution_count": 42,
   "outputs": [
    {
     "name": "stdout",
     "output_type": "stream",
     "text": [
      "# 'SuicideWatch' category:\n",
      "  . Most correlated unigrams:\n",
      ". die\n",
      ". suicide\n",
      ". depress\n",
      ". kill\n",
      ". depression\n",
      "  . Most correlated bigrams:\n",
      ". feel like\n",
      ". want die\n",
      "\n",
      "# 'depression' category:\n",
      "  . Most correlated unigrams:\n",
      ". die\n",
      ". suicide\n",
      ". depress\n",
      ". kill\n",
      ". depression\n",
      "  . Most correlated bigrams:\n",
      ". feel like\n",
      ". want die\n",
      "\n"
     ]
    },
    {
     "name": "stderr",
     "output_type": "stream",
     "text": [
      "C:\\Users\\sathy\\OneDrive\\Documents\\GitHub\\humm\\venv\\lib\\site-packages\\sklearn\\utils\\deprecation.py:87: FutureWarning: Function get_feature_names is deprecated; get_feature_names is deprecated in 1.0 and will be removed in 1.2. Please use get_feature_names_out instead.\n",
      "  warnings.warn(msg, category=FutureWarning)\n",
      "C:\\Users\\sathy\\OneDrive\\Documents\\GitHub\\humm\\venv\\lib\\site-packages\\sklearn\\utils\\deprecation.py:87: FutureWarning: Function get_feature_names is deprecated; get_feature_names is deprecated in 1.0 and will be removed in 1.2. Please use get_feature_names_out instead.\n",
      "  warnings.warn(msg, category=FutureWarning)\n"
     ]
    }
   ],
   "source": [
    "from sklearn.feature_selection import chi2\n",
    "import numpy as np\n",
    "\n",
    "for Product, category_id in sorted(category_codes.items()):\n",
    "    features_chi2 = chi2(features_train, labels_train == category_id)\n",
    "    indices = np.argsort(features_chi2[0])\n",
    "    feature_names = np.array(tfidf.get_feature_names())[indices]\n",
    "    unigrams = [v for v in feature_names if len(v.split(' ')) == 1]\n",
    "    bigrams = [v for v in feature_names if len(v.split(' ')) == 2]\n",
    "    print(\"# '{}' category:\".format(Product))\n",
    "    print(\"  . Most correlated unigrams:\\n. {}\".format('\\n. '.join(unigrams[-5:])))\n",
    "    print(\"  . Most correlated bigrams:\\n. {}\".format('\\n. '.join(bigrams[-2:])))\n",
    "    print(\"\")"
   ],
   "metadata": {
    "collapsed": false,
    "pycharm": {
     "name": "#%%\n"
    }
   }
  },
  {
   "cell_type": "code",
   "execution_count": 43,
   "outputs": [
    {
     "data": {
      "text/plain": "['cannot even',\n 'every day',\n 'get better',\n 'even though',\n 'mental health',\n 'make feel',\n 'feel like',\n 'want die']"
     },
     "execution_count": 43,
     "metadata": {},
     "output_type": "execute_result"
    }
   ],
   "source": [
    "bigrams"
   ],
   "metadata": {
    "collapsed": false,
    "pycharm": {
     "name": "#%%\n"
    }
   }
  },
  {
   "cell_type": "code",
   "execution_count": 45,
   "outputs": [],
   "source": [
    "# X_train\n",
    "with open('Pickles/X_train.pickle', 'wb') as output:\n",
    "    pickle.dump(X_train, output)\n",
    "\n",
    "# X_test\n",
    "with open('Pickles/X_test.pickle', 'wb') as output:\n",
    "    pickle.dump(X_test, output)\n",
    "\n",
    "# y_train\n",
    "with open('Pickles/y_train.pickle', 'wb') as output:\n",
    "    pickle.dump(y_train, output)\n",
    "\n",
    "# y_test\n",
    "with open('Pickles/y_test.pickle', 'wb') as output:\n",
    "    pickle.dump(y_test, output)\n",
    "\n",
    "# df\n",
    "with open('Pickles/df.pickle', 'wb') as output:\n",
    "    pickle.dump(df, output)\n",
    "\n",
    "# features_train\n",
    "with open('Pickles/features_train.pickle', 'wb') as output:\n",
    "    pickle.dump(features_train, output)\n",
    "\n",
    "# labels_train\n",
    "with open('Pickles/labels_train.pickle', 'wb') as output:\n",
    "    pickle.dump(labels_train, output)\n",
    "\n",
    "# features_test\n",
    "with open('Pickles/features_test.pickle', 'wb') as output:\n",
    "    pickle.dump(features_test, output)\n",
    "\n",
    "# labels_test\n",
    "with open('Pickles/labels_test.pickle', 'wb') as output:\n",
    "    pickle.dump(labels_test, output)\n",
    "\n",
    "# TF-IDF object\n",
    "with open('Pickles/tfidf.pickle', 'wb') as output:\n",
    "    pickle.dump(tfidf, output)"
   ],
   "metadata": {
    "collapsed": false,
    "pycharm": {
     "name": "#%%\n"
    }
   }
  }
 ],
 "metadata": {
  "kernelspec": {
   "display_name": "Python 3",
   "language": "python",
   "name": "python3"
  },
  "language_info": {
   "codemirror_mode": {
    "name": "ipython",
    "version": 2
   },
   "file_extension": ".py",
   "mimetype": "text/x-python",
   "name": "python",
   "nbconvert_exporter": "python",
   "pygments_lexer": "ipython2",
   "version": "2.7.6"
  }
 },
 "nbformat": 4,
 "nbformat_minor": 0
}