{
 "cells": [
  {
   "cell_type": "code",
   "execution_count": 8,
   "metadata": {
    "collapsed": true
   },
   "outputs": [],
   "source": [
    "import pandas as pd\n",
    "from nltk import tokenize\n",
    "from operator import itemgetter\n",
    "import matplotlib.pyplot as plt\n",
    "import seaborn as sns"
   ]
  },
  {
   "cell_type": "code",
   "execution_count": 9,
   "outputs": [
    {
     "data": {
      "text/plain": "                                  ngram            dataset  \\\n0                       trichtillomania             reddit   \n1    attention deficit w/ hyperactivity             reddit   \n2           attention deflict distorder             reddit   \n3               attn deficit w hyperact             reddit   \n4                            auspergers             reddit   \n5                               austism             reddit   \n6                             austistic             reddit   \n7                               authism             reddit   \n8                             authistic             reddit   \n9                               autisim             reddit   \n10                               autism             reddit   \n11                             autistic             reddit   \n12  attention deficit hyperactivity dis             reddit   \n13                                  bp1             reddit   \n14                              bulemia             reddit   \n15                              bulemic             reddit   \n16                              bulimea             reddit   \n17                              bulimia             reddit   \n18                              bulimic             reddit   \n19                             bullemia             reddit   \n20                    circular insanity             reddit   \n21                      combat neurosis             reddit   \n22                         cyclophrenia             reddit   \n23                         cyclophrenic             reddit   \n24                          cyclothymia             reddit   \n25                                  bp2             reddit   \n26                attention deficit dis             reddit   \n27                            assburger             reddit   \n28                            assberger             reddit   \n29                        mental health  clpsych-multitask   \n30                      trichotilomania             reddit   \n31                    do not deserve to            clpsych   \n32                             a.d.h.d.             reddit   \n33                                ad/hd             reddit   \n34                      kill themselves          multitask   \n35                                  add             reddit   \n36                                 adhd             reddit   \n37                 alternating insanity             reddit   \n38                  anancastic neurosis             reddit   \n39               anancastic personality             reddit   \n40               anankastic personality             reddit   \n41                            anorectic             reddit   \n42                              anorexi             reddit   \n43                              anxiety             reddit   \n44                         mentally ill          multitask   \n45                           apserger's             reddit   \n46                             asberger             reddit   \n47                             asburger             reddit   \n48                            aspberger             reddit   \n49                             asperger             reddit   \n\n                                             disorder  min_relative_rank  n  \\\n0                                             general                  0  1   \n1                                             general                  0  4   \n2                                             general                  0  3   \n3                                             general                  0  4   \n4                                             general                  0  1   \n5                                             general                  0  1   \n6                                             general                  0  1   \n7                                             general                  0  1   \n8                                             general                  0  1   \n9                                             general                  0  1   \n10                                            general                  0  1   \n11                                            general                  0  1   \n12                                            general                  0  4   \n13                                            general                  0  1   \n14                                            general                  0  1   \n15                                            general                  0  1   \n16                                            general                  0  1   \n17                                            general                  0  1   \n18                                            general                  0  1   \n19                                            general                  0  1   \n20                                            general                  0  2   \n21                                            general                  0  2   \n22                                            general                  0  1   \n23                                            general                  0  1   \n24                                            general                  0  1   \n25                                            general                  0  1   \n26                                            general                  0  3   \n27                                            general                  0  1   \n28                                            general                  0  1   \n29  bipolar-borderline-depression-panic-ptsd-suici...                  0  2   \n30                                            general                  0  1   \n31                                         depression                  0  4   \n32                                            general                  0  1   \n33                                            general                  0  1   \n34                      schizophrenia-suicide_attempt                  0  2   \n35                                            general                  0  1   \n36                                            general                  0  1   \n37                                            general                  0  2   \n38                                            general                  0  2   \n39                                            general                  0  2   \n40                                            general                  0  2   \n41                                            general                  0  1   \n42                                            general                  0  1   \n43                                            general                  0  1   \n44         bipolar-ptsd-schizophrenia-suicide_attempt                  0  2   \n45                                            general                  0  1   \n46                                            general                  0  1   \n47                                            general                  0  1   \n48                                            general                  0  1   \n49                                            general                  0  1   \n\n    count  \n0       1  \n1       1  \n2       1  \n3       1  \n4       1  \n5       1  \n6       1  \n7       1  \n8       1  \n9       1  \n10      1  \n11      1  \n12      1  \n13      1  \n14      1  \n15      1  \n16      1  \n17      1  \n18      1  \n19      1  \n20      1  \n21      1  \n22      1  \n23      1  \n24      1  \n25      1  \n26      1  \n27      1  \n28      1  \n29      6  \n30      1  \n31      1  \n32      1  \n33      1  \n34      2  \n35      1  \n36      1  \n37      1  \n38      1  \n39      1  \n40      1  \n41      1  \n42      1  \n43      1  \n44      4  \n45      1  \n46      1  \n47      1  \n48      1  \n49      1  ",
      "text/html": "<div>\n<style scoped>\n    .dataframe tbody tr th:only-of-type {\n        vertical-align: middle;\n    }\n\n    .dataframe tbody tr th {\n        vertical-align: top;\n    }\n\n    .dataframe thead th {\n        text-align: right;\n    }\n</style>\n<table border=\"1\" class=\"dataframe\">\n  <thead>\n    <tr style=\"text-align: right;\">\n      <th></th>\n      <th>ngram</th>\n      <th>dataset</th>\n      <th>disorder</th>\n      <th>min_relative_rank</th>\n      <th>n</th>\n      <th>count</th>\n    </tr>\n  </thead>\n  <tbody>\n    <tr>\n      <th>0</th>\n      <td>trichtillomania</td>\n      <td>reddit</td>\n      <td>general</td>\n      <td>0</td>\n      <td>1</td>\n      <td>1</td>\n    </tr>\n    <tr>\n      <th>1</th>\n      <td>attention deficit w/ hyperactivity</td>\n      <td>reddit</td>\n      <td>general</td>\n      <td>0</td>\n      <td>4</td>\n      <td>1</td>\n    </tr>\n    <tr>\n      <th>2</th>\n      <td>attention deflict distorder</td>\n      <td>reddit</td>\n      <td>general</td>\n      <td>0</td>\n      <td>3</td>\n      <td>1</td>\n    </tr>\n    <tr>\n      <th>3</th>\n      <td>attn deficit w hyperact</td>\n      <td>reddit</td>\n      <td>general</td>\n      <td>0</td>\n      <td>4</td>\n      <td>1</td>\n    </tr>\n    <tr>\n      <th>4</th>\n      <td>auspergers</td>\n      <td>reddit</td>\n      <td>general</td>\n      <td>0</td>\n      <td>1</td>\n      <td>1</td>\n    </tr>\n    <tr>\n      <th>5</th>\n      <td>austism</td>\n      <td>reddit</td>\n      <td>general</td>\n      <td>0</td>\n      <td>1</td>\n      <td>1</td>\n    </tr>\n    <tr>\n      <th>6</th>\n      <td>austistic</td>\n      <td>reddit</td>\n      <td>general</td>\n      <td>0</td>\n      <td>1</td>\n      <td>1</td>\n    </tr>\n    <tr>\n      <th>7</th>\n      <td>authism</td>\n      <td>reddit</td>\n      <td>general</td>\n      <td>0</td>\n      <td>1</td>\n      <td>1</td>\n    </tr>\n    <tr>\n      <th>8</th>\n      <td>authistic</td>\n      <td>reddit</td>\n      <td>general</td>\n      <td>0</td>\n      <td>1</td>\n      <td>1</td>\n    </tr>\n    <tr>\n      <th>9</th>\n      <td>autisim</td>\n      <td>reddit</td>\n      <td>general</td>\n      <td>0</td>\n      <td>1</td>\n      <td>1</td>\n    </tr>\n    <tr>\n      <th>10</th>\n      <td>autism</td>\n      <td>reddit</td>\n      <td>general</td>\n      <td>0</td>\n      <td>1</td>\n      <td>1</td>\n    </tr>\n    <tr>\n      <th>11</th>\n      <td>autistic</td>\n      <td>reddit</td>\n      <td>general</td>\n      <td>0</td>\n      <td>1</td>\n      <td>1</td>\n    </tr>\n    <tr>\n      <th>12</th>\n      <td>attention deficit hyperactivity dis</td>\n      <td>reddit</td>\n      <td>general</td>\n      <td>0</td>\n      <td>4</td>\n      <td>1</td>\n    </tr>\n    <tr>\n      <th>13</th>\n      <td>bp1</td>\n      <td>reddit</td>\n      <td>general</td>\n      <td>0</td>\n      <td>1</td>\n      <td>1</td>\n    </tr>\n    <tr>\n      <th>14</th>\n      <td>bulemia</td>\n      <td>reddit</td>\n      <td>general</td>\n      <td>0</td>\n      <td>1</td>\n      <td>1</td>\n    </tr>\n    <tr>\n      <th>15</th>\n      <td>bulemic</td>\n      <td>reddit</td>\n      <td>general</td>\n      <td>0</td>\n      <td>1</td>\n      <td>1</td>\n    </tr>\n    <tr>\n      <th>16</th>\n      <td>bulimea</td>\n      <td>reddit</td>\n      <td>general</td>\n      <td>0</td>\n      <td>1</td>\n      <td>1</td>\n    </tr>\n    <tr>\n      <th>17</th>\n      <td>bulimia</td>\n      <td>reddit</td>\n      <td>general</td>\n      <td>0</td>\n      <td>1</td>\n      <td>1</td>\n    </tr>\n    <tr>\n      <th>18</th>\n      <td>bulimic</td>\n      <td>reddit</td>\n      <td>general</td>\n      <td>0</td>\n      <td>1</td>\n      <td>1</td>\n    </tr>\n    <tr>\n      <th>19</th>\n      <td>bullemia</td>\n      <td>reddit</td>\n      <td>general</td>\n      <td>0</td>\n      <td>1</td>\n      <td>1</td>\n    </tr>\n    <tr>\n      <th>20</th>\n      <td>circular insanity</td>\n      <td>reddit</td>\n      <td>general</td>\n      <td>0</td>\n      <td>2</td>\n      <td>1</td>\n    </tr>\n    <tr>\n      <th>21</th>\n      <td>combat neurosis</td>\n      <td>reddit</td>\n      <td>general</td>\n      <td>0</td>\n      <td>2</td>\n      <td>1</td>\n    </tr>\n    <tr>\n      <th>22</th>\n      <td>cyclophrenia</td>\n      <td>reddit</td>\n      <td>general</td>\n      <td>0</td>\n      <td>1</td>\n      <td>1</td>\n    </tr>\n    <tr>\n      <th>23</th>\n      <td>cyclophrenic</td>\n      <td>reddit</td>\n      <td>general</td>\n      <td>0</td>\n      <td>1</td>\n      <td>1</td>\n    </tr>\n    <tr>\n      <th>24</th>\n      <td>cyclothymia</td>\n      <td>reddit</td>\n      <td>general</td>\n      <td>0</td>\n      <td>1</td>\n      <td>1</td>\n    </tr>\n    <tr>\n      <th>25</th>\n      <td>bp2</td>\n      <td>reddit</td>\n      <td>general</td>\n      <td>0</td>\n      <td>1</td>\n      <td>1</td>\n    </tr>\n    <tr>\n      <th>26</th>\n      <td>attention deficit dis</td>\n      <td>reddit</td>\n      <td>general</td>\n      <td>0</td>\n      <td>3</td>\n      <td>1</td>\n    </tr>\n    <tr>\n      <th>27</th>\n      <td>assburger</td>\n      <td>reddit</td>\n      <td>general</td>\n      <td>0</td>\n      <td>1</td>\n      <td>1</td>\n    </tr>\n    <tr>\n      <th>28</th>\n      <td>assberger</td>\n      <td>reddit</td>\n      <td>general</td>\n      <td>0</td>\n      <td>1</td>\n      <td>1</td>\n    </tr>\n    <tr>\n      <th>29</th>\n      <td>mental health</td>\n      <td>clpsych-multitask</td>\n      <td>bipolar-borderline-depression-panic-ptsd-suici...</td>\n      <td>0</td>\n      <td>2</td>\n      <td>6</td>\n    </tr>\n    <tr>\n      <th>30</th>\n      <td>trichotilomania</td>\n      <td>reddit</td>\n      <td>general</td>\n      <td>0</td>\n      <td>1</td>\n      <td>1</td>\n    </tr>\n    <tr>\n      <th>31</th>\n      <td>do not deserve to</td>\n      <td>clpsych</td>\n      <td>depression</td>\n      <td>0</td>\n      <td>4</td>\n      <td>1</td>\n    </tr>\n    <tr>\n      <th>32</th>\n      <td>a.d.h.d.</td>\n      <td>reddit</td>\n      <td>general</td>\n      <td>0</td>\n      <td>1</td>\n      <td>1</td>\n    </tr>\n    <tr>\n      <th>33</th>\n      <td>ad/hd</td>\n      <td>reddit</td>\n      <td>general</td>\n      <td>0</td>\n      <td>1</td>\n      <td>1</td>\n    </tr>\n    <tr>\n      <th>34</th>\n      <td>kill themselves</td>\n      <td>multitask</td>\n      <td>schizophrenia-suicide_attempt</td>\n      <td>0</td>\n      <td>2</td>\n      <td>2</td>\n    </tr>\n    <tr>\n      <th>35</th>\n      <td>add</td>\n      <td>reddit</td>\n      <td>general</td>\n      <td>0</td>\n      <td>1</td>\n      <td>1</td>\n    </tr>\n    <tr>\n      <th>36</th>\n      <td>adhd</td>\n      <td>reddit</td>\n      <td>general</td>\n      <td>0</td>\n      <td>1</td>\n      <td>1</td>\n    </tr>\n    <tr>\n      <th>37</th>\n      <td>alternating insanity</td>\n      <td>reddit</td>\n      <td>general</td>\n      <td>0</td>\n      <td>2</td>\n      <td>1</td>\n    </tr>\n    <tr>\n      <th>38</th>\n      <td>anancastic neurosis</td>\n      <td>reddit</td>\n      <td>general</td>\n      <td>0</td>\n      <td>2</td>\n      <td>1</td>\n    </tr>\n    <tr>\n      <th>39</th>\n      <td>anancastic personality</td>\n      <td>reddit</td>\n      <td>general</td>\n      <td>0</td>\n      <td>2</td>\n      <td>1</td>\n    </tr>\n    <tr>\n      <th>40</th>\n      <td>anankastic personality</td>\n      <td>reddit</td>\n      <td>general</td>\n      <td>0</td>\n      <td>2</td>\n      <td>1</td>\n    </tr>\n    <tr>\n      <th>41</th>\n      <td>anorectic</td>\n      <td>reddit</td>\n      <td>general</td>\n      <td>0</td>\n      <td>1</td>\n      <td>1</td>\n    </tr>\n    <tr>\n      <th>42</th>\n      <td>anorexi</td>\n      <td>reddit</td>\n      <td>general</td>\n      <td>0</td>\n      <td>1</td>\n      <td>1</td>\n    </tr>\n    <tr>\n      <th>43</th>\n      <td>anxiety</td>\n      <td>reddit</td>\n      <td>general</td>\n      <td>0</td>\n      <td>1</td>\n      <td>1</td>\n    </tr>\n    <tr>\n      <th>44</th>\n      <td>mentally ill</td>\n      <td>multitask</td>\n      <td>bipolar-ptsd-schizophrenia-suicide_attempt</td>\n      <td>0</td>\n      <td>2</td>\n      <td>4</td>\n    </tr>\n    <tr>\n      <th>45</th>\n      <td>apserger's</td>\n      <td>reddit</td>\n      <td>general</td>\n      <td>0</td>\n      <td>1</td>\n      <td>1</td>\n    </tr>\n    <tr>\n      <th>46</th>\n      <td>asberger</td>\n      <td>reddit</td>\n      <td>general</td>\n      <td>0</td>\n      <td>1</td>\n      <td>1</td>\n    </tr>\n    <tr>\n      <th>47</th>\n      <td>asburger</td>\n      <td>reddit</td>\n      <td>general</td>\n      <td>0</td>\n      <td>1</td>\n      <td>1</td>\n    </tr>\n    <tr>\n      <th>48</th>\n      <td>aspberger</td>\n      <td>reddit</td>\n      <td>general</td>\n      <td>0</td>\n      <td>1</td>\n      <td>1</td>\n    </tr>\n    <tr>\n      <th>49</th>\n      <td>asperger</td>\n      <td>reddit</td>\n      <td>general</td>\n      <td>0</td>\n      <td>1</td>\n      <td>1</td>\n    </tr>\n  </tbody>\n</table>\n</div>"
     },
     "execution_count": 9,
     "metadata": {},
     "output_type": "execute_result"
    }
   ],
   "source": [
    "df = pd.read_csv('mental_health_keywords.csv')\n",
    "df.head(50)"
   ],
   "metadata": {
    "collapsed": false,
    "pycharm": {
     "name": "#%%\n"
    }
   }
  },
  {
   "cell_type": "code",
   "execution_count": null,
   "outputs": [],
   "source": [
    "df_monogram = df[df.n <= 1]\n",
    "\n",
    "plt.rcParams['figure.figsize'] = [20, 20]\n",
    "classes = df_monogram['disorder'].transpose().value_counts().plot(kind = 'bar')\n",
    "plt.savefig('figure.png')\n",
    "classes_text = df_monogram['disorder'].transpose().value_counts()\n",
    "# print(classes)\n",
    "print(classes_text)\n",
    "# plt.figure(figsize=(100,50))\n",
    "# sns.displot(df_monogram, x='disorder')\n",
    "# plt.show()\n",
    "# df_monogram.head()\n",
    "# df_monogram.info()"
   ],
   "metadata": {
    "collapsed": false,
    "pycharm": {
     "name": "#%%\n"
    }
   }
  },
  {
   "cell_type": "code",
   "execution_count": 39,
   "outputs": [
    {
     "name": "stdout",
     "output_type": "stream",
     "text": [
      "{'borderline-depression-ptsd-suicidal_ideation': 2, 'bipolar': 1, 'borderline-depression-ptsd-suicidal_ideation-suicide_attempt': 1}\n"
     ]
    }
   ],
   "source": [
    "tf = {}\n",
    "monograms = dict(zip(df_monogram['ngram'], df_monogram['disorder']))\n",
    "# monograms = df_monogram['ngram'].unique()\n",
    "\n",
    "for word in total_words_filter:\n",
    "    if word in monograms:\n",
    "        disorder = monograms[word]\n",
    "        if disorder in tf:\n",
    "            tf[disorder] += 1\n",
    "        else:\n",
    "            tf[disorder] = 1\n",
    "\n",
    "print(tf)"
   ],
   "metadata": {
    "collapsed": false,
    "pycharm": {
     "name": "#%%\n"
    }
   }
  },
  {
   "cell_type": "code",
   "execution_count": 40,
   "outputs": [],
   "source": [
    "def get_highest_frequency(dic_element):\n",
    "    # result = dict(sorted(dic_element.items(), key=itemgetter(1), reverse=True)[:num])\n",
    "    result = [key for key, value in dic_element.items() if value == max(dic_element.values())]\n",
    "    return result"
   ],
   "metadata": {
    "collapsed": false,
    "pycharm": {
     "name": "#%%\n"
    }
   }
  },
  {
   "cell_type": "code",
   "execution_count": 41,
   "outputs": [
    {
     "name": "stdout",
     "output_type": "stream",
     "text": [
      "['borderline-depression-ptsd-suicidal_ideation']\n"
     ]
    }
   ],
   "source": [
    "diagnosis = get_highest_frequency(tf)\n",
    "print(diagnosis)"
   ],
   "metadata": {
    "collapsed": false,
    "pycharm": {
     "name": "#%%\n"
    }
   }
  },
  {
   "cell_type": "code",
   "execution_count": 46,
   "outputs": [
    {
     "name": "stdout",
     "output_type": "stream",
     "text": [
      "['borderline-depression-ptsd-suicidal_ideation']\n",
      "['borderline', 'depression', 'ptsd', 'suicidal_ideation']\n"
     ]
    }
   ],
   "source": [
    "disorder_list = []\n",
    "\n",
    "for disorders in diagnosis:\n",
    "    separated_disorders = disorders.split('-')\n",
    "    for disorder in separated_disorders:\n",
    "        if disorder not in disorder_list:\n",
    "            disorder_list.append(disorder)\n",
    "print(diagnosis)\n",
    "print(disorder_list)"
   ],
   "metadata": {
    "collapsed": false,
    "pycharm": {
     "name": "#%%\n"
    }
   }
  },
  {
   "cell_type": "code",
   "execution_count": 67,
   "outputs": [
    {
     "name": "stdout",
     "output_type": "stream",
     "text": [
      "['worthless', 'whiny', 'suicide']\n"
     ]
    }
   ],
   "source": [
    "# keylist = list(sorted_highest_frequency.keys())\n",
    "# print(keylist)"
   ],
   "metadata": {
    "collapsed": false,
    "pycharm": {
     "name": "#%%\n"
    }
   }
  },
  {
   "cell_type": "code",
   "execution_count": 68,
   "outputs": [
    {
     "name": "stdout",
     "output_type": "stream",
     "text": [
      "['borderline-depression-ptsd-suicidal_ideation', 'bipolar', 'borderline-depression-ptsd-suicidal_ideation-suicide_attempt']\n"
     ]
    }
   ],
   "source": [
    "# disorder_list = []\n",
    "#\n",
    "# for i in keylist:\n",
    "#    df_sorting = df_monogram.loc[df_monogram['ngram'] == i]\n",
    "#    disorder_list.append(df_sorting['disorder'].values[0])\n",
    "# print(disorder_list)"
   ],
   "metadata": {
    "collapsed": false,
    "pycharm": {
     "name": "#%%\n"
    }
   }
  }
 ],
 "metadata": {
  "kernelspec": {
   "display_name": "Python 3",
   "language": "python",
   "name": "python3"
  },
  "language_info": {
   "codemirror_mode": {
    "name": "ipython",
    "version": 2
   },
   "file_extension": ".py",
   "mimetype": "text/x-python",
   "name": "python",
   "nbconvert_exporter": "python",
   "pygments_lexer": "ipython2",
   "version": "2.7.6"
  }
 },
 "nbformat": 4,
 "nbformat_minor": 0
}