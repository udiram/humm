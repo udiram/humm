{
 "cells": [
  {
   "cell_type": "code",
   "execution_count": 88,
   "metadata": {
    "collapsed": true
   },
   "outputs": [],
   "source": [
    "import pandas as pd\n",
    "from nltk import tokenize\n",
    "from operator import itemgetter\n",
    "import matplotlib.pyplot as plt\n",
    "import seaborn as sns"
   ]
  },
  {
   "cell_type": "code",
   "execution_count": 83,
   "outputs": [
    {
     "data": {
      "text/plain": "                                ngram dataset disorder  min_relative_rank  n  \\\n0                     trichtillomania  reddit  general                  0  1   \n1  attention deficit w/ hyperactivity  reddit  general                  0  4   \n2         attention deflict distorder  reddit  general                  0  3   \n3             attn deficit w hyperact  reddit  general                  0  4   \n4                          auspergers  reddit  general                  0  1   \n\n   count  \n0      1  \n1      1  \n2      1  \n3      1  \n4      1  ",
      "text/html": "<div>\n<style scoped>\n    .dataframe tbody tr th:only-of-type {\n        vertical-align: middle;\n    }\n\n    .dataframe tbody tr th {\n        vertical-align: top;\n    }\n\n    .dataframe thead th {\n        text-align: right;\n    }\n</style>\n<table border=\"1\" class=\"dataframe\">\n  <thead>\n    <tr style=\"text-align: right;\">\n      <th></th>\n      <th>ngram</th>\n      <th>dataset</th>\n      <th>disorder</th>\n      <th>min_relative_rank</th>\n      <th>n</th>\n      <th>count</th>\n    </tr>\n  </thead>\n  <tbody>\n    <tr>\n      <th>0</th>\n      <td>trichtillomania</td>\n      <td>reddit</td>\n      <td>general</td>\n      <td>0</td>\n      <td>1</td>\n      <td>1</td>\n    </tr>\n    <tr>\n      <th>1</th>\n      <td>attention deficit w/ hyperactivity</td>\n      <td>reddit</td>\n      <td>general</td>\n      <td>0</td>\n      <td>4</td>\n      <td>1</td>\n    </tr>\n    <tr>\n      <th>2</th>\n      <td>attention deflict distorder</td>\n      <td>reddit</td>\n      <td>general</td>\n      <td>0</td>\n      <td>3</td>\n      <td>1</td>\n    </tr>\n    <tr>\n      <th>3</th>\n      <td>attn deficit w hyperact</td>\n      <td>reddit</td>\n      <td>general</td>\n      <td>0</td>\n      <td>4</td>\n      <td>1</td>\n    </tr>\n    <tr>\n      <th>4</th>\n      <td>auspergers</td>\n      <td>reddit</td>\n      <td>general</td>\n      <td>0</td>\n      <td>1</td>\n      <td>1</td>\n    </tr>\n  </tbody>\n</table>\n</div>"
     },
     "execution_count": 83,
     "metadata": {},
     "output_type": "execute_result"
    }
   ],
   "source": [
    "df = pd.read_csv('mental_health_keywords.csv')\n",
    "df.head()"
   ],
   "metadata": {
    "collapsed": false,
    "pycharm": {
     "name": "#%%\n"
    }
   }
  },
  {
   "cell_type": "code",
   "execution_count": 93,
   "outputs": [
    {
     "data": {
      "text/plain": "<Figure size 10000x5000 with 0 Axes>"
     },
     "metadata": {},
     "output_type": "display_data"
    },
    {
     "data": {
      "text/plain": "<Figure size 500x500 with 1 Axes>",
      "image/png": "[encoded data removed]"
     },
     "metadata": {},
     "output_type": "display_data"
    }
   ],
   "source": [
    "df_monogram = df[df.n <= 1]\n",
    "plt.figure(figsize=(100,50))\n",
    "sns.displot(df_monogram, x='disorder')\n",
    "plt.show()\n",
    "# df_monogram.head()\n",
    "# df_monogram.info()"
   ],
   "metadata": {
    "collapsed": false,
    "pycharm": {
     "name": "#%%\n"
    }
   }
  },
  {
   "cell_type": "code",
   "execution_count": 73,
   "outputs": [
    {
     "name": "stdout",
     "output_type": "stream",
     "text": [
      "['Nobody', 'is', 'probably', 'going', 'to', 'respond', 'to', 'this', 'post', 'but', 'I', 'might', 'not', 'be', 'alive', 'much', 'longer', 'anyway', '.', 'I', \"'m\", 'a', '21', 'year', 'old', 'virgin', 'loser', 'who', 'is', 'still', 'in', 'community', 'college', '.', 'I', 'have', 'been', 'lonely', 'my', 'entire', 'life', ',', 'I', 'do', \"n't\", 'have', 'any', 'siblings', 'and', 'my', 'dad', 'would', 'always', 'call', 'me', 'worthless', 'and', 'ugly', '.', 'I', \"'d\", 'have', 'to', 'sleep', 'at', 'friends', 'house', 'on', 'the', 'couch', 'sometimes', 'because', 'he', 'would', 'come', 'home', 'too', 'drunk', 'and', 'angry', '.', 'Because', 'of', 'this', 'I', 'was', 'really', 'depressed', 'in', 'high', 'school', 'and', 'did', \"n't\", 'take', 'the', 'best', 'care', 'of', 'myself', ',', 'I', 'was', 'just', 'the', 'weird', 'quiet', 'kid', '.', 'When', 'it', 'came', 'time', 'for', 'graduation', 'we', 'had', 'two', 'lines', 'to', 'see', 'who', 'walks', 'with', 'who', 'based', 'on', 'how', 'tall', 'we', 'all', 'were', ',', 'and', 'all', 'the', 'girls', 'tried', 'to', 'push', 'each', 'other', 'in', 'front', 'of', 'each', 'other', 'so', 'they', 'did', \"n't\", 'have', 'to', 'walk', 'with', 'me', ',', 'I', 'think', 'about', 'that', 'every', 'day', '.', 'Bunch', 'of', 'other', 'bad', 'stuff', 'happened', 'too', 'but', 'I', 'do', \"n't\", 'want', 'this', 'to', 'turn', 'into', 'to', 'much', 'of', 'a', 'pathetic', 'rant', '.', 'Anyway', 'a', 'full', 'three', 'years', 'later', 'after', 'I', 'moved', 'out', 'I', 'met', 'the', 'most', 'perfect', 'girl', 'I', 'had', 'ever', 'met', '.', 'She', 'liked', 'all', 'the', 'same', 'things', 'as', 'me', ',', 'was', 'introverted', 'like', 'me', ',', 'was', 'easy', 'to', 'talk', 'to', ',', 'smart', ',', 'funny', ',', 'beautiful', '.', 'I', 'was', 'so', 'in', 'love', 'with', 'her', 'and', 'I', 'am', 'pretty', 'sure', 'she', 'liked', 'me', 'a', 'little', 'bit', 'too', ',', 'but', 'my', 'socially', 'stunted', 'ass', 'had', 'to', 'be', 'too', 'scared', 'to', 'make', 'a', 'move', 'a', 'ruin', 'it', '.', 'I', 'fucking', 'hate', 'myself', 'so', 'much', '.', 'The', 'chances', 'of', 'me', 'meeting', 'somebody', 'like', 'that', 'again', 'are', 'zero', '.', 'I', 'made', 'a', 'promise', 'with', 'myself', 'that', 'I', 'would', 'do', 'best', 'to', 'improve', 'my', 'life', 'and', 'put', 'myself', 'out', 'there', 'and', 'if', 'things', 'did', \"n't\", 'change', 'by', 'the', 'time', 'I', 'was', '22', 'I', 'would', 'kill', 'myself', '.', 'I', 'am', 'going', 'to', 'turn', '22', 'in', 'a', 'few', 'months', 'and', 'nothing', 'has', 'changed', '.', '99', '%', 'of', 'the', 'girls', 'are', 'meet', 'are', 'party', 'girls', 'I', 'have', 'nothing', 'in', 'common', 'with', 'who', 'still', 'think', 'I', 'am', 'the', 'weird', 'kid', '.', 'I', 'do', \"n't\", 'want', 'to', 'kill', 'myself', 'because', 'it', 'would', 'hurt', 'my', 'mom', 'but', 'do', \"n't\", 'think', 'I', 'can', 'live', 'like', 'this', 'anymore', '.', 'I', 'read', 'some', 'reddit', 'and', 'it', 'seems', 'like', 'people', 'think', 'that', 'people', 'like', 'me', 'are', 'whiny', 'babies', 'and', 'their', 'probably', 'right', '.', 'I', 'know', 'some', 'people', 'in', 'other', 'countries', 'are', 'fucking', 'starving', 'to', 'death', 'and', 'being', 'lonely', 'is', \"n't\", 'the', 'worst', 'thing', 'that', 'can', 'happen', 'to', 'you', '.', 'I', \"'m\", 'such', 'a', 'pussy', 'for', 'letting', 'this', 'ruin', 'my', 'life', 'which', 'is', 'probably', 'why', 'nobody', 'wants', 'to', 'be', 'with', 'a', 'worthless', 'piece', 'of', 'shit', 'like', 'me', '.', 'But', 'I', 'still', 'stink', 'about', 'suicide', 'everyday', 'nonstop', '.', 'I', 'keep', 'fantasizing', 'that', 'maybe', 'if', 'I', 'kill', 'myself', 'Ill', 'go', 'somewhere', 'where', 'I', 'am', 'more', 'lovable', 'and', 'like', 'everybody', 'else', '.', 'I', 'do', \"n't\", 'I', 'just', 'wish', 'I', 'was', \"n't\", 'born']\n",
      "['Nobody', 'is', 'probably', 'going', 'to', 'respond', 'to', 'this', 'post', 'but', 'I', 'might', 'not', 'be', 'alive', 'much', 'longer', 'anyway', 'I', \"'m\", 'a', '21', 'year', 'old', 'virgin', 'loser', 'who', 'is', 'still', 'in', 'community', 'college', 'I', 'have', 'been', 'lonely', 'my', 'entire', 'life', 'I', 'do', \"n't\", 'have', 'any', 'siblings', 'and', 'my', 'dad', 'would', 'always', 'call', 'me', 'worthless', 'and', 'ugly', 'I', \"'d\", 'have', 'to', 'sleep', 'at', 'friends', 'house', 'on', 'the', 'couch', 'sometimes', 'because', 'he', 'would', 'come', 'home', 'too', 'drunk', 'and', 'angry', 'Because', 'of', 'this', 'I', 'was', 'really', 'depressed', 'in', 'high', 'school', 'and', 'did', \"n't\", 'take', 'the', 'best', 'care', 'of', 'myself', 'I', 'was', 'just', 'the', 'weird', 'quiet', 'kid', 'When', 'it', 'came', 'time', 'for', 'graduation', 'we', 'had', 'two', 'lines', 'to', 'see', 'who', 'walks', 'with', 'who', 'based', 'on', 'how', 'tall', 'we', 'all', 'were', 'and', 'all', 'the', 'girls', 'tried', 'to', 'push', 'each', 'other', 'in', 'front', 'of', 'each', 'other', 'so', 'they', 'did', \"n't\", 'have', 'to', 'walk', 'with', 'me', 'I', 'think', 'about', 'that', 'every', 'day', 'Bunch', 'of', 'other', 'bad', 'stuff', 'happened', 'too', 'but', 'I', 'do', \"n't\", 'want', 'this', 'to', 'turn', 'into', 'to', 'much', 'of', 'a', 'pathetic', 'rant', 'Anyway', 'a', 'full', 'three', 'years', 'later', 'after', 'I', 'moved', 'out', 'I', 'met', 'the', 'most', 'perfect', 'girl', 'I', 'had', 'ever', 'met', 'She', 'liked', 'all', 'the', 'same', 'things', 'as', 'me', 'was', 'introverted', 'like', 'me', 'was', 'easy', 'to', 'talk', 'to', 'smart', 'funny', 'beautiful', 'I', 'was', 'so', 'in', 'love', 'with', 'her', 'and', 'I', 'am', 'pretty', 'sure', 'she', 'liked', 'me', 'a', 'little', 'bit', 'too', 'but', 'my', 'socially', 'stunted', 'ass', 'had', 'to', 'be', 'too', 'scared', 'to', 'make', 'a', 'move', 'a', 'ruin', 'it', 'I', 'fucking', 'hate', 'myself', 'so', 'much', 'The', 'chances', 'of', 'me', 'meeting', 'somebody', 'like', 'that', 'again', 'are', 'zero', 'I', 'made', 'a', 'promise', 'with', 'myself', 'that', 'I', 'would', 'do', 'best', 'to', 'improve', 'my', 'life', 'and', 'put', 'myself', 'out', 'there', 'and', 'if', 'things', 'did', \"n't\", 'change', 'by', 'the', 'time', 'I', 'was', '22', 'I', 'would', 'kill', 'myself', 'I', 'am', 'going', 'to', 'turn', '22', 'in', 'a', 'few', 'months', 'and', 'nothing', 'has', 'changed', '99', '%', 'of', 'the', 'girls', 'are', 'meet', 'are', 'party', 'girls', 'I', 'have', 'nothing', 'in', 'common', 'with', 'who', 'still', 'think', 'I', 'am', 'the', 'weird', 'kid', 'I', 'do', \"n't\", 'want', 'to', 'kill', 'myself', 'because', 'it', 'would', 'hurt', 'my', 'mom', 'but', 'do', \"n't\", 'think', 'I', 'can', 'live', 'like', 'this', 'anymore', 'I', 'read', 'some', 'reddit', 'and', 'it', 'seems', 'like', 'people', 'think', 'that', 'people', 'like', 'me', 'are', 'whiny', 'babies', 'and', 'their', 'probably', 'right', 'I', 'know', 'some', 'people', 'in', 'other', 'countries', 'are', 'fucking', 'starving', 'to', 'death', 'and', 'being', 'lonely', 'is', \"n't\", 'the', 'worst', 'thing', 'that', 'can', 'happen', 'to', 'you', 'I', \"'m\", 'such', 'a', 'pussy', 'for', 'letting', 'this', 'ruin', 'my', 'life', 'which', 'is', 'probably', 'why', 'nobody', 'wants', 'to', 'be', 'with', 'a', 'worthless', 'piece', 'of', 'shit', 'like', 'me', 'But', 'I', 'still', 'stink', 'about', 'suicide', 'everyday', 'nonstop', 'I', 'keep', 'fantasizing', 'that', 'maybe', 'if', 'I', 'kill', 'myself', 'Ill', 'go', 'somewhere', 'where', 'I', 'am', 'more', 'lovable', 'and', 'like', 'everybody', 'else', 'I', 'do', \"n't\", 'I', 'just', 'wish', 'I', 'was', \"n't\", 'born']\n"
     ]
    }
   ],
   "source": [
    "sample_text = \"\"\"Nobody is probably going to respond to this post but I might not be alive much longer anyway. I'm a 21 year old virgin loser who is still in community college. I have been lonely my entire life, I don't have any siblings and my dad would always call me worthless and ugly. I'd have to sleep at friends house on the couch sometimes because he would come home too drunk and angry. Because of this I was really depressed in high school and didn't take the best care of myself, I was just the weird quiet kid. When it came time for graduation we had two lines to see who walks with who based on how tall we all were, and all the girls tried to push each other in front of each other so they didn't have to walk with me, I think about that every day. Bunch of other bad stuff happened too but I don't want this to turn into to much of a pathetic rant.\n",
    "\n",
    "Anyway a full three years later after I moved out I met the most perfect girl I had ever met. She liked all the same things as me, was introverted like me, was easy to talk to, smart, funny, beautiful. I was so in love with her and I am pretty sure she liked me a little bit too, but my socially stunted ass had to be too scared to make a move a ruin it. I fucking hate myself so much. The chances of me meeting somebody like that again are zero. I made a promise with myself that I would do best to improve my life and put myself out there and if things didn't change by the time I was 22 I would kill myself. I am going to turn 22 in a few months and nothing has changed. 99% of the girls are meet are party girls I have nothing in common with who still think I am the weird kid. I don't want to kill myself because it would hurt my mom but don't think I can live like this anymore. I read some reddit and it seems like people think that people like me are whiny babies and their probably right. I know some people in other countries are fucking starving to death and being lonely isn't the worst thing that can happen to you. I'm such a pussy for letting this ruin my life which is probably why nobody wants to be with a worthless piece of shit like me. But I still stink about suicide everyday nonstop. I keep fantasizing that maybe if I kill myself Ill go somewhere where I am more lovable and like everybody else. I don't I just wish I wasn't born\"\"\"\n",
    "\n",
    "total_words = tokenize.word_tokenize(sample_text)\n",
    "print(total_words)\n",
    "\n",
    "total_words_filter = list(filter(lambda x: x != ','\n",
    "                                           and x != '.'\n",
    "                                           and x != '!'\n",
    "                                           and x != '?', total_words))\n",
    "print(total_words_filter)"
   ],
   "metadata": {
    "collapsed": false,
    "pycharm": {
     "name": "#%%\n"
    }
   }
  },
  {
   "cell_type": "code",
   "execution_count": 74,
   "outputs": [
    {
     "name": "stdout",
     "output_type": "stream",
     "text": [
      "{'worthless': 2, 'whiny': 1, 'suicide': 1}\n"
     ]
    }
   ],
   "source": [
    "tf = {}\n",
    "monograms = df_monogram['ngram'].unique()\n",
    "\n",
    "for word in total_words_filter:\n",
    "    if word in monograms:\n",
    "        if word in tf:\n",
    "            tf[word] += 1\n",
    "        else:\n",
    "            tf[word] = 1\n",
    "\n",
    "print(tf)"
   ],
   "metadata": {
    "collapsed": false,
    "pycharm": {
     "name": "#%%\n"
    }
   }
  },
  {
   "cell_type": "code",
   "execution_count": 77,
   "outputs": [],
   "source": [
    "def get_highest_frequency(dic_element, num):\n",
    "    result = dict(sorted(dic_element.items(), key=itemgetter(1), reverse=True)[:num])\n",
    "    return result"
   ],
   "metadata": {
    "collapsed": false,
    "pycharm": {
     "name": "#%%\n"
    }
   }
  },
  {
   "cell_type": "code",
   "execution_count": 79,
   "outputs": [
    {
     "name": "stdout",
     "output_type": "stream",
     "text": [
      "{'worthless': 2, 'whiny': 1, 'suicide': 1}\n"
     ]
    }
   ],
   "source": [
    "sorted_highest_frequency = get_highest_frequency(tf, 5)\n",
    "print(sorted_highest_frequency)"
   ],
   "metadata": {
    "collapsed": false,
    "pycharm": {
     "name": "#%%\n"
    }
   }
  },
  {
   "cell_type": "code",
   "execution_count": 67,
   "outputs": [
    {
     "name": "stdout",
     "output_type": "stream",
     "text": [
      "['worthless', 'whiny', 'suicide']\n"
     ]
    }
   ],
   "source": [
    "keylist = list(sorted_highest_frequency.keys())\n",
    "print(keylist)"
   ],
   "metadata": {
    "collapsed": false,
    "pycharm": {
     "name": "#%%\n"
    }
   }
  },
  {
   "cell_type": "code",
   "execution_count": 68,
   "outputs": [
    {
     "name": "stdout",
     "output_type": "stream",
     "text": [
      "['borderline-depression-ptsd-suicidal_ideation', 'bipolar', 'borderline-depression-ptsd-suicidal_ideation-suicide_attempt']\n"
     ]
    }
   ],
   "source": [
    "disorder_list = []\n",
    "\n",
    "for i in keylist:\n",
    "   df_sorting = df_monogram.loc[df_monogram['ngram'] == i]\n",
    "   disorder_list.append(df_sorting['disorder'].values[0])\n",
    "print(disorder_list)"
   ],
   "metadata": {
    "collapsed": false,
    "pycharm": {
     "name": "#%%\n"
    }
   }
  }
 ],
 "metadata": {
  "kernelspec": {
   "display_name": "Python 3",
   "language": "python",
   "name": "python3"
  },
  "language_info": {
   "codemirror_mode": {
    "name": "ipython",
    "version": 2
   },
   "file_extension": ".py",
   "mimetype": "text/x-python",
   "name": "python",
   "nbconvert_exporter": "python",
   "pygments_lexer": "ipython2",
   "version": "2.7.6"
  }
 },
 "nbformat": 4,
 "nbformat_minor": 0
}