{
 "cells": [
  {
   "cell_type": "code",
   "execution_count": 46,
   "outputs": [],
   "source": [
    "from nltk import tokenize\n",
    "import math\n",
    "from operator import itemgetter\n",
    "from nltk.corpus import stopwords\n",
    "from nltk.tokenize import word_tokenize"
   ],
   "metadata": {
    "collapsed": false,
    "pycharm": {
     "name": "#%%\n"
    }
   }
  },
  {
   "cell_type": "code",
   "execution_count": 47,
   "outputs": [
    {
     "name": "stdout",
     "output_type": "stream",
     "text": [
      "{'have', 'their', 'a', 'once', 'his', 'after', 'aren', 'doing', 'from', \"it's\", 'yourself', 'themselves', 'an', 'with', 'these', 'herself', 'both', 'her', 'me', 'are', 'myself', 'between', 'few', 'been', \"aren't\", \"hasn't\", 'having', 'no', \"you're\", 'theirs', 'before', 'wasn', \"won't\", 'when', 'don', 'how', 'ours', 'should', \"that'll\", 'into', \"hadn't\", 'we', 'do', 'under', 'is', 'here', \"mustn't\", 'those', 'haven', 'each', 'were', \"should've\", 'hasn', 'who', 'of', 'you', \"didn't\", 'shan', 'then', 'has', 'does', 'and', 're', 'm', 'your', 'him', \"isn't\", \"mightn't\", 'our', 'she', 'mightn', 'where', 'which', 'down', 'wouldn', 'had', 'that', 'up', 'other', 'my', 'will', 'or', 'below', 'am', 'above', 'this', 'what', 'as', 'to', 'why', 'over', \"shouldn't\", 'against', 'hers', 'ourselves', \"doesn't\", \"you'll\", 'did', 'most', 'won', 'needn', \"weren't\", \"wasn't\", 'they', 'just', 'can', 'only', 'd', 'ain', \"she's\", 'again', 'its', 'all', 've', 'didn', 'there', 'mustn', \"needn't\", 'while', 'yours', 'ma', 'weren', 'it', \"don't\", 'was', 'll', 'any', 'through', \"haven't\", 'out', 'if', 'very', 'yourselves', 's', 'now', 'himself', 'too', 'because', 'by', 'off', 'shouldn', 'same', 'the', 'such', 'i', 'o', \"you've\", 'at', 'more', 'itself', 'isn', 'some', 'couldn', 'own', 't', \"couldn't\", 'during', 'until', 'for', \"wouldn't\", 'further', 'hadn', 'so', 'whom', 'in', \"shan't\", 'he', 'y', 'nor', 'than', 'being', 'them', \"you'd\", 'doesn', 'be', 'about', 'on', 'but', 'not'}\n"
     ]
    }
   ],
   "source": [
    "mental_health_text_sample = \"\"\"\"Nobody is probably going to respond to this post but I might not be alive much longer anyway. I'm a 21 year old virgin loser who is still in community college. I have been lonely my entire life, I don't have any siblings and my dad would always call me worthless and ugly. I'd have to sleep at friends house on the couch sometimes because he would come home too drunk and angry. Because of this I was really depressed in high school and didn't take the best care of myself, I was just the weird quiet kid. When it came time for graduation we had two lines to see who walks with who based on how tall we all were, and all the girls tried to push each other in front of each other so they didn't have to walk with me, I think about that every day. Bunch of other bad stuff happened too but I don't want this to turn into to much of a pathetic rant.\n",
    "\n",
    "Anyway a full three years later after I moved out I met the most perfect girl I had ever met. She liked all the same things as me, was introverted like me, was easy to talk to, smart, funny, beautiful. I was so in love with her and I am pretty sure she liked me a little bit too, but my socially stunted ass had to be too scared to make a move a ruin it. I fucking hate myself so much. The chances of me meeting somebody like that again are zero. I made a promise with myself that I would do best to improve my life and put myself out there and if things didn't change by the time I was 22 I would kill myself. I am going to turn 22 in a few months and nothing has changed. 99% of the girls are meet are party girls I have nothing in common with who still think I am the weird kid. I don't want to kill myself because it would hurt my mom but don't think I can live like this anymore. I read some reddit and it seems like people think that people like me are whiny babies and their probably right. I know some people in other countries are fucking starving to death and being lonely isn't the worst thing that can happen to you. I'm such a pussy for letting this ruin my life which is probably why nobody wants to be with a worthless piece of shit like me. But I still stink about suicide everyday nonstop. I keep fantasizing that maybe if I kill myself Ill go somewhere where I am more lovable and like everybody else. I don't I just wish I wasn't born\"\"\"\"\"\n",
    "stopwords_set = set(stopwords.words('english'))\n",
    "print(stopwords_set)"
   ],
   "metadata": {
    "collapsed": false,
    "pycharm": {
     "name": "#%%\n"
    }
   }
  },
  {
   "cell_type": "code",
   "execution_count": 48,
   "outputs": [
    {
     "name": "stdout",
     "output_type": "stream",
     "text": [
      "['\"Nobody is probably going to respond to this post but I might not be alive much longer anyway.', \"I'm a 21 year old virgin loser who is still in community college.\", \"I have been lonely my entire life, I don't have any siblings and my dad would always call me worthless and ugly.\", \"I'd have to sleep at friends house on the couch sometimes because he would come home too drunk and angry.\", \"Because of this I was really depressed in high school and didn't take the best care of myself, I was just the weird quiet kid.\", \"When it came time for graduation we had two lines to see who walks with who based on how tall we all were, and all the girls tried to push each other in front of each other so they didn't have to walk with me, I think about that every day.\", \"Bunch of other bad stuff happened too but I don't want this to turn into to much of a pathetic rant.\", 'Anyway a full three years later after I moved out I met the most perfect girl I had ever met.', 'She liked all the same things as me, was introverted like me, was easy to talk to, smart, funny, beautiful.', 'I was so in love with her and I am pretty sure she liked me a little bit too, but my socially stunted ass had to be too scared to make a move a ruin it.', 'I fucking hate myself so much.', 'The chances of me meeting somebody like that again are zero.', \"I made a promise with myself that I would do best to improve my life and put myself out there and if things didn't change by the time I was 22 I would kill myself.\", 'I am going to turn 22 in a few months and nothing has changed.', '99% of the girls are meet are party girls I have nothing in common with who still think I am the weird kid.', \"I don't want to kill myself because it would hurt my mom but don't think I can live like this anymore.\", 'I read some reddit and it seems like people think that people like me are whiny babies and their probably right.', \"I know some people in other countries are fucking starving to death and being lonely isn't the worst thing that can happen to you.\", \"I'm such a pussy for letting this ruin my life which is probably why nobody wants to be with a worthless piece of shit like me.\", 'But I still stink about suicide everyday nonstop.', 'I keep fantasizing that maybe if I kill myself Ill go somewhere where I am more lovable and like everybody else.', \"I don't I just wish I wasn't born\"]\n",
      "22\n"
     ]
    }
   ],
   "source": [
    "total_sentences = tokenize.sent_tokenize(mental_health_text_sample)\n",
    "print(total_sentences)\n",
    "total_sentence_length = len(total_sentences)\n",
    "print(total_sentence_length)"
   ],
   "metadata": {
    "collapsed": false,
    "pycharm": {
     "name": "#%%\n"
    }
   }
  },
  {
   "cell_type": "code",
   "execution_count": 49,
   "outputs": [
    {
     "name": "stdout",
     "output_type": "stream",
     "text": [
      "['``', 'Nobody', 'is', 'probably', 'going', 'to', 'respond', 'to', 'this', 'post', 'but', 'I', 'might', 'not', 'be', 'alive', 'much', 'longer', 'anyway', '.', 'I', \"'m\", 'a', '21', 'year', 'old', 'virgin', 'loser', 'who', 'is', 'still', 'in', 'community', 'college', '.', 'I', 'have', 'been', 'lonely', 'my', 'entire', 'life', ',', 'I', 'do', \"n't\", 'have', 'any', 'siblings', 'and', 'my', 'dad', 'would', 'always', 'call', 'me', 'worthless', 'and', 'ugly', '.', 'I', \"'d\", 'have', 'to', 'sleep', 'at', 'friends', 'house', 'on', 'the', 'couch', 'sometimes', 'because', 'he', 'would', 'come', 'home', 'too', 'drunk', 'and', 'angry', '.', 'Because', 'of', 'this', 'I', 'was', 'really', 'depressed', 'in', 'high', 'school', 'and', 'did', \"n't\", 'take', 'the', 'best', 'care', 'of', 'myself', ',', 'I', 'was', 'just', 'the', 'weird', 'quiet', 'kid', '.', 'When', 'it', 'came', 'time', 'for', 'graduation', 'we', 'had', 'two', 'lines', 'to', 'see', 'who', 'walks', 'with', 'who', 'based', 'on', 'how', 'tall', 'we', 'all', 'were', ',', 'and', 'all', 'the', 'girls', 'tried', 'to', 'push', 'each', 'other', 'in', 'front', 'of', 'each', 'other', 'so', 'they', 'did', \"n't\", 'have', 'to', 'walk', 'with', 'me', ',', 'I', 'think', 'about', 'that', 'every', 'day', '.', 'Bunch', 'of', 'other', 'bad', 'stuff', 'happened', 'too', 'but', 'I', 'do', \"n't\", 'want', 'this', 'to', 'turn', 'into', 'to', 'much', 'of', 'a', 'pathetic', 'rant', '.', 'Anyway', 'a', 'full', 'three', 'years', 'later', 'after', 'I', 'moved', 'out', 'I', 'met', 'the', 'most', 'perfect', 'girl', 'I', 'had', 'ever', 'met', '.', 'She', 'liked', 'all', 'the', 'same', 'things', 'as', 'me', ',', 'was', 'introverted', 'like', 'me', ',', 'was', 'easy', 'to', 'talk', 'to', ',', 'smart', ',', 'funny', ',', 'beautiful', '.', 'I', 'was', 'so', 'in', 'love', 'with', 'her', 'and', 'I', 'am', 'pretty', 'sure', 'she', 'liked', 'me', 'a', 'little', 'bit', 'too', ',', 'but', 'my', 'socially', 'stunted', 'ass', 'had', 'to', 'be', 'too', 'scared', 'to', 'make', 'a', 'move', 'a', 'ruin', 'it', '.', 'I', 'fucking', 'hate', 'myself', 'so', 'much', '.', 'The', 'chances', 'of', 'me', 'meeting', 'somebody', 'like', 'that', 'again', 'are', 'zero', '.', 'I', 'made', 'a', 'promise', 'with', 'myself', 'that', 'I', 'would', 'do', 'best', 'to', 'improve', 'my', 'life', 'and', 'put', 'myself', 'out', 'there', 'and', 'if', 'things', 'did', \"n't\", 'change', 'by', 'the', 'time', 'I', 'was', '22', 'I', 'would', 'kill', 'myself', '.', 'I', 'am', 'going', 'to', 'turn', '22', 'in', 'a', 'few', 'months', 'and', 'nothing', 'has', 'changed', '.', '99', '%', 'of', 'the', 'girls', 'are', 'meet', 'are', 'party', 'girls', 'I', 'have', 'nothing', 'in', 'common', 'with', 'who', 'still', 'think', 'I', 'am', 'the', 'weird', 'kid', '.', 'I', 'do', \"n't\", 'want', 'to', 'kill', 'myself', 'because', 'it', 'would', 'hurt', 'my', 'mom', 'but', 'do', \"n't\", 'think', 'I', 'can', 'live', 'like', 'this', 'anymore', '.', 'I', 'read', 'some', 'reddit', 'and', 'it', 'seems', 'like', 'people', 'think', 'that', 'people', 'like', 'me', 'are', 'whiny', 'babies', 'and', 'their', 'probably', 'right', '.', 'I', 'know', 'some', 'people', 'in', 'other', 'countries', 'are', 'fucking', 'starving', 'to', 'death', 'and', 'being', 'lonely', 'is', \"n't\", 'the', 'worst', 'thing', 'that', 'can', 'happen', 'to', 'you', '.', 'I', \"'m\", 'such', 'a', 'pussy', 'for', 'letting', 'this', 'ruin', 'my', 'life', 'which', 'is', 'probably', 'why', 'nobody', 'wants', 'to', 'be', 'with', 'a', 'worthless', 'piece', 'of', 'shit', 'like', 'me', '.', 'But', 'I', 'still', 'stink', 'about', 'suicide', 'everyday', 'nonstop', '.', 'I', 'keep', 'fantasizing', 'that', 'maybe', 'if', 'I', 'kill', 'myself', 'Ill', 'go', 'somewhere', 'where', 'I', 'am', 'more', 'lovable', 'and', 'like', 'everybody', 'else', '.', 'I', 'do', \"n't\", 'I', 'just', 'wish', 'I', 'was', \"n't\", 'born']\n",
      "['``', 'Nobody', 'is', 'probably', 'going', 'to', 'respond', 'to', 'this', 'post', 'but', 'I', 'might', 'not', 'be', 'alive', 'much', 'longer', 'anyway', 'I', \"'m\", 'a', '21', 'year', 'old', 'virgin', 'loser', 'who', 'is', 'still', 'in', 'community', 'college', 'I', 'have', 'been', 'lonely', 'my', 'entire', 'life', 'I', 'do', \"n't\", 'have', 'any', 'siblings', 'and', 'my', 'dad', 'would', 'always', 'call', 'me', 'worthless', 'and', 'ugly', 'I', \"'d\", 'have', 'to', 'sleep', 'at', 'friends', 'house', 'on', 'the', 'couch', 'sometimes', 'because', 'he', 'would', 'come', 'home', 'too', 'drunk', 'and', 'angry', 'Because', 'of', 'this', 'I', 'was', 'really', 'depressed', 'in', 'high', 'school', 'and', 'did', \"n't\", 'take', 'the', 'best', 'care', 'of', 'myself', 'I', 'was', 'just', 'the', 'weird', 'quiet', 'kid', 'When', 'it', 'came', 'time', 'for', 'graduation', 'we', 'had', 'two', 'lines', 'to', 'see', 'who', 'walks', 'with', 'who', 'based', 'on', 'how', 'tall', 'we', 'all', 'were', 'and', 'all', 'the', 'girls', 'tried', 'to', 'push', 'each', 'other', 'in', 'front', 'of', 'each', 'other', 'so', 'they', 'did', \"n't\", 'have', 'to', 'walk', 'with', 'me', 'I', 'think', 'about', 'that', 'every', 'day', 'Bunch', 'of', 'other', 'bad', 'stuff', 'happened', 'too', 'but', 'I', 'do', \"n't\", 'want', 'this', 'to', 'turn', 'into', 'to', 'much', 'of', 'a', 'pathetic', 'rant', 'Anyway', 'a', 'full', 'three', 'years', 'later', 'after', 'I', 'moved', 'out', 'I', 'met', 'the', 'most', 'perfect', 'girl', 'I', 'had', 'ever', 'met', 'She', 'liked', 'all', 'the', 'same', 'things', 'as', 'me', 'was', 'introverted', 'like', 'me', 'was', 'easy', 'to', 'talk', 'to', 'smart', 'funny', 'beautiful', 'I', 'was', 'so', 'in', 'love', 'with', 'her', 'and', 'I', 'am', 'pretty', 'sure', 'she', 'liked', 'me', 'a', 'little', 'bit', 'too', 'but', 'my', 'socially', 'stunted', 'ass', 'had', 'to', 'be', 'too', 'scared', 'to', 'make', 'a', 'move', 'a', 'ruin', 'it', 'I', 'fucking', 'hate', 'myself', 'so', 'much', 'The', 'chances', 'of', 'me', 'meeting', 'somebody', 'like', 'that', 'again', 'are', 'zero', 'I', 'made', 'a', 'promise', 'with', 'myself', 'that', 'I', 'would', 'do', 'best', 'to', 'improve', 'my', 'life', 'and', 'put', 'myself', 'out', 'there', 'and', 'if', 'things', 'did', \"n't\", 'change', 'by', 'the', 'time', 'I', 'was', '22', 'I', 'would', 'kill', 'myself', 'I', 'am', 'going', 'to', 'turn', '22', 'in', 'a', 'few', 'months', 'and', 'nothing', 'has', 'changed', '99', '%', 'of', 'the', 'girls', 'are', 'meet', 'are', 'party', 'girls', 'I', 'have', 'nothing', 'in', 'common', 'with', 'who', 'still', 'think', 'I', 'am', 'the', 'weird', 'kid', 'I', 'do', \"n't\", 'want', 'to', 'kill', 'myself', 'because', 'it', 'would', 'hurt', 'my', 'mom', 'but', 'do', \"n't\", 'think', 'I', 'can', 'live', 'like', 'this', 'anymore', 'I', 'read', 'some', 'reddit', 'and', 'it', 'seems', 'like', 'people', 'think', 'that', 'people', 'like', 'me', 'are', 'whiny', 'babies', 'and', 'their', 'probably', 'right', 'I', 'know', 'some', 'people', 'in', 'other', 'countries', 'are', 'fucking', 'starving', 'to', 'death', 'and', 'being', 'lonely', 'is', \"n't\", 'the', 'worst', 'thing', 'that', 'can', 'happen', 'to', 'you', 'I', \"'m\", 'such', 'a', 'pussy', 'for', 'letting', 'this', 'ruin', 'my', 'life', 'which', 'is', 'probably', 'why', 'nobody', 'wants', 'to', 'be', 'with', 'a', 'worthless', 'piece', 'of', 'shit', 'like', 'me', 'But', 'I', 'still', 'stink', 'about', 'suicide', 'everyday', 'nonstop', 'I', 'keep', 'fantasizing', 'that', 'maybe', 'if', 'I', 'kill', 'myself', 'Ill', 'go', 'somewhere', 'where', 'I', 'am', 'more', 'lovable', 'and', 'like', 'everybody', 'else', 'I', 'do', \"n't\", 'I', 'just', 'wish', 'I', 'was', \"n't\", 'born']\n"
     ]
    }
   ],
   "source": [
    "total_words = tokenize.word_tokenize(mental_health_text_sample)\n",
    "print(total_words)\n",
    "\n",
    "total_words_filter = list(filter(lambda x: x != ','\n",
    "                                           and x != '.'\n",
    "                                           and x != '!'\n",
    "                                           and x != '?', total_words))\n",
    "print(total_words_filter)"
   ],
   "metadata": {
    "collapsed": false,
    "pycharm": {
     "name": "#%%\n"
    }
   }
  },
  {
   "cell_type": "code",
   "execution_count": 50,
   "outputs": [
    {
     "name": "stdout",
     "output_type": "stream",
     "text": [
      "{'``': 1, 'Nobody': 1, 'probably': 3, 'going': 2, 'respond': 1, 'post': 1, 'I': 34, 'might': 1, 'alive': 1, 'much': 3, 'longer': 1, 'anyway': 1, \"'m\": 2, '21': 1, 'year': 1, 'old': 1, 'virgin': 1, 'loser': 1, 'still': 3, 'community': 1, 'college': 1, 'lonely': 2, 'entire': 1, 'life': 3, \"n't\": 10, 'siblings': 1, 'dad': 1, 'would': 5, 'always': 1, 'call': 1, 'worthless': 2, 'ugly': 1, \"'d\": 1, 'sleep': 1, 'friends': 1, 'house': 1, 'couch': 1, 'sometimes': 1, 'come': 1, 'home': 1, 'drunk': 1, 'angry': 1, 'Because': 1, 'really': 1, 'depressed': 1, 'high': 1, 'school': 1, 'take': 1, 'best': 2, 'care': 1, 'weird': 2, 'quiet': 1, 'kid': 2, 'When': 1, 'came': 1, 'time': 2, 'graduation': 1, 'two': 1, 'lines': 1, 'see': 1, 'walks': 1, 'based': 1, 'tall': 1, 'girls': 3, 'tried': 1, 'push': 1, 'front': 1, 'walk': 1, 'think': 4, 'every': 1, 'day': 1, 'Bunch': 1, 'bad': 1, 'stuff': 1, 'happened': 1, 'want': 2, 'turn': 2, 'pathetic': 1, 'rant': 1, 'Anyway': 1, 'full': 1, 'three': 1, 'years': 1, 'later': 1, 'moved': 1, 'met': 2, 'perfect': 1, 'girl': 1, 'ever': 1, 'She': 1, 'liked': 2, 'things': 2, 'introverted': 1, 'like': 7, 'easy': 1, 'talk': 1, 'smart': 1, 'funny': 1, 'beautiful': 1, 'love': 1, 'pretty': 1, 'sure': 1, 'little': 1, 'bit': 1, 'socially': 1, 'stunted': 1, 'ass': 1, 'scared': 1, 'make': 1, 'move': 1, 'ruin': 2, 'fucking': 2, 'hate': 1, 'The': 1, 'chances': 1, 'meeting': 1, 'somebody': 1, 'zero': 1, 'made': 1, 'promise': 1, 'improve': 1, 'put': 1, 'change': 1, '22': 2, 'kill': 3, 'months': 1, 'nothing': 2, 'changed': 1, '99': 1, '%': 1, 'meet': 1, 'party': 1, 'common': 1, 'hurt': 1, 'mom': 1, 'live': 1, 'anymore': 1, 'read': 1, 'reddit': 1, 'seems': 1, 'people': 3, 'whiny': 1, 'babies': 1, 'right': 1, 'know': 1, 'countries': 1, 'starving': 1, 'death': 1, 'worst': 1, 'thing': 1, 'happen': 1, 'pussy': 1, 'letting': 1, 'nobody': 1, 'wants': 1, 'piece': 1, 'shit': 1, 'But': 1, 'stink': 1, 'suicide': 1, 'everyday': 1, 'nonstop': 1, 'keep': 1, 'fantasizing': 1, 'maybe': 1, 'Ill': 1, 'go': 1, 'somewhere': 1, 'lovable': 1, 'everybody': 1, 'else': 1, 'wish': 1, 'born': 1}\n"
     ]
    }
   ],
   "source": [
    "tf = {}\n",
    "for word in total_words_filter:\n",
    "    if word not in stopwords_set:\n",
    "        if word in tf:\n",
    "            tf[word] += 1\n",
    "        else:\n",
    "            tf[word] = 1\n",
    "\n",
    "print(tf)"
   ],
   "metadata": {
    "collapsed": false,
    "pycharm": {
     "name": "#%%\n"
    }
   }
  },
  {
   "cell_type": "code",
   "execution_count": 51,
   "outputs": [
    {
     "name": "stdout",
     "output_type": "stream",
     "text": [
      "{'``': 0.00196078431372549, 'Nobody': 0.00196078431372549, 'probably': 0.0058823529411764705, 'going': 0.00392156862745098, 'respond': 0.00196078431372549, 'post': 0.00196078431372549, 'I': 0.06666666666666667, 'might': 0.00196078431372549, 'alive': 0.00196078431372549, 'much': 0.0058823529411764705, 'longer': 0.00196078431372549, 'anyway': 0.00196078431372549, \"'m\": 0.00392156862745098, '21': 0.00196078431372549, 'year': 0.00196078431372549, 'old': 0.00196078431372549, 'virgin': 0.00196078431372549, 'loser': 0.00196078431372549, 'still': 0.0058823529411764705, 'community': 0.00196078431372549, 'college': 0.00196078431372549, 'lonely': 0.00392156862745098, 'entire': 0.00196078431372549, 'life': 0.0058823529411764705, \"n't\": 0.0196078431372549, 'siblings': 0.00196078431372549, 'dad': 0.00196078431372549, 'would': 0.00980392156862745, 'always': 0.00196078431372549, 'call': 0.00196078431372549, 'worthless': 0.00392156862745098, 'ugly': 0.00196078431372549, \"'d\": 0.00196078431372549, 'sleep': 0.00196078431372549, 'friends': 0.00196078431372549, 'house': 0.00196078431372549, 'couch': 0.00196078431372549, 'sometimes': 0.00196078431372549, 'come': 0.00196078431372549, 'home': 0.00196078431372549, 'drunk': 0.00196078431372549, 'angry': 0.00196078431372549, 'Because': 0.00196078431372549, 'really': 0.00196078431372549, 'depressed': 0.00196078431372549, 'high': 0.00196078431372549, 'school': 0.00196078431372549, 'take': 0.00196078431372549, 'best': 0.00392156862745098, 'care': 0.00196078431372549, 'weird': 0.00392156862745098, 'quiet': 0.00196078431372549, 'kid': 0.00392156862745098, 'When': 0.00196078431372549, 'came': 0.00196078431372549, 'time': 0.00392156862745098, 'graduation': 0.00196078431372549, 'two': 0.00196078431372549, 'lines': 0.00196078431372549, 'see': 0.00196078431372549, 'walks': 0.00196078431372549, 'based': 0.00196078431372549, 'tall': 0.00196078431372549, 'girls': 0.0058823529411764705, 'tried': 0.00196078431372549, 'push': 0.00196078431372549, 'front': 0.00196078431372549, 'walk': 0.00196078431372549, 'think': 0.00784313725490196, 'every': 0.00196078431372549, 'day': 0.00196078431372549, 'Bunch': 0.00196078431372549, 'bad': 0.00196078431372549, 'stuff': 0.00196078431372549, 'happened': 0.00196078431372549, 'want': 0.00392156862745098, 'turn': 0.00392156862745098, 'pathetic': 0.00196078431372549, 'rant': 0.00196078431372549, 'Anyway': 0.00196078431372549, 'full': 0.00196078431372549, 'three': 0.00196078431372549, 'years': 0.00196078431372549, 'later': 0.00196078431372549, 'moved': 0.00196078431372549, 'met': 0.00392156862745098, 'perfect': 0.00196078431372549, 'girl': 0.00196078431372549, 'ever': 0.00196078431372549, 'She': 0.00196078431372549, 'liked': 0.00392156862745098, 'things': 0.00392156862745098, 'introverted': 0.00196078431372549, 'like': 0.013725490196078431, 'easy': 0.00196078431372549, 'talk': 0.00196078431372549, 'smart': 0.00196078431372549, 'funny': 0.00196078431372549, 'beautiful': 0.00196078431372549, 'love': 0.00196078431372549, 'pretty': 0.00196078431372549, 'sure': 0.00196078431372549, 'little': 0.00196078431372549, 'bit': 0.00196078431372549, 'socially': 0.00196078431372549, 'stunted': 0.00196078431372549, 'ass': 0.00196078431372549, 'scared': 0.00196078431372549, 'make': 0.00196078431372549, 'move': 0.00196078431372549, 'ruin': 0.00392156862745098, 'fucking': 0.00392156862745098, 'hate': 0.00196078431372549, 'The': 0.00196078431372549, 'chances': 0.00196078431372549, 'meeting': 0.00196078431372549, 'somebody': 0.00196078431372549, 'zero': 0.00196078431372549, 'made': 0.00196078431372549, 'promise': 0.00196078431372549, 'improve': 0.00196078431372549, 'put': 0.00196078431372549, 'change': 0.00196078431372549, '22': 0.00392156862745098, 'kill': 0.0058823529411764705, 'months': 0.00196078431372549, 'nothing': 0.00392156862745098, 'changed': 0.00196078431372549, '99': 0.00196078431372549, '%': 0.00196078431372549, 'meet': 0.00196078431372549, 'party': 0.00196078431372549, 'common': 0.00196078431372549, 'hurt': 0.00196078431372549, 'mom': 0.00196078431372549, 'live': 0.00196078431372549, 'anymore': 0.00196078431372549, 'read': 0.00196078431372549, 'reddit': 0.00196078431372549, 'seems': 0.00196078431372549, 'people': 0.0058823529411764705, 'whiny': 0.00196078431372549, 'babies': 0.00196078431372549, 'right': 0.00196078431372549, 'know': 0.00196078431372549, 'countries': 0.00196078431372549, 'starving': 0.00196078431372549, 'death': 0.00196078431372549, 'worst': 0.00196078431372549, 'thing': 0.00196078431372549, 'happen': 0.00196078431372549, 'pussy': 0.00196078431372549, 'letting': 0.00196078431372549, 'nobody': 0.00196078431372549, 'wants': 0.00196078431372549, 'piece': 0.00196078431372549, 'shit': 0.00196078431372549, 'But': 0.00196078431372549, 'stink': 0.00196078431372549, 'suicide': 0.00196078431372549, 'everyday': 0.00196078431372549, 'nonstop': 0.00196078431372549, 'keep': 0.00196078431372549, 'fantasizing': 0.00196078431372549, 'maybe': 0.00196078431372549, 'Ill': 0.00196078431372549, 'go': 0.00196078431372549, 'somewhere': 0.00196078431372549, 'lovable': 0.00196078431372549, 'everybody': 0.00196078431372549, 'else': 0.00196078431372549, 'wish': 0.00196078431372549, 'born': 0.00196078431372549}\n"
     ]
    }
   ],
   "source": [
    "tf.update((x,y/len(total_words)) for x,y in tf.items())\n",
    "print(tf)"
   ],
   "metadata": {
    "collapsed": false,
    "pycharm": {
     "name": "#%%\n"
    }
   }
  },
  {
   "cell_type": "code",
   "execution_count": 52,
   "outputs": [],
   "source": [
    "def check_sentence(target_word, sentence):\n",
    "    result = [all([w in x for w in word]) for x in sentence]\n",
    "    sen_len = [sentence[i] for i in range(0, len(result)) if result[i]]\n",
    "    return int(len(sen_len))"
   ],
   "metadata": {
    "collapsed": false,
    "pycharm": {
     "name": "#%%\n"
    }
   }
  },
  {
   "cell_type": "code",
   "execution_count": 53,
   "outputs": [
    {
     "name": "stdout",
     "output_type": "stream",
     "text": [
      "{'``': 1, 'Nobody': 1, 'probably': 11, 'going': 17, 'respond': 1, 'post': 1, 'I': 20, 'might': 1, 'alive': 1, 'much': 15, 'longer': 1, 'anyway': 1, '.': 21, \"'m\": 10, '21': 1, 'year': 1, 'old': 1, 'virgin': 1, 'loser': 1, 'still': 19, 'community': 1, 'college': 1, 'lonely': 19, 'entire': 1, 'life': 14, ',': 5, \"n't\": 11, 'siblings': 1, 'dad': 1, 'would': 13, 'always': 1, 'call': 1, 'worthless': 16, 'ugly': 1, \"'d\": 1, 'sleep': 1, 'friends': 1, 'house': 1, 'couch': 1, 'sometimes': 1, 'come': 1, 'home': 1, 'drunk': 1, 'angry': 1, 'Because': 1, 'really': 1, 'depressed': 1, 'high': 1, 'school': 1, 'take': 1, 'best': 16, 'care': 1, 'weird': 18, 'quiet': 1, 'kid': 14, 'When': 1, 'came': 1, 'time': 20, 'graduation': 1, 'two': 1, 'lines': 1, 'see': 1, 'walks': 1, 'based': 1, 'tall': 1, 'girls': 15, 'tried': 1, 'push': 1, 'front': 1, 'walk': 1, 'think': 14, 'every': 1, 'day': 1, 'Bunch': 1, 'bad': 1, 'stuff': 1, 'happened': 1, 'want': 19, 'turn': 17, 'pathetic': 1, 'rant': 1, 'Anyway': 1, 'full': 1, 'three': 1, 'years': 1, 'later': 1, 'moved': 1, 'met': 20, 'perfect': 1, 'girl': 1, 'ever': 1, 'She': 1, 'liked': 14, 'things': 17, 'introverted': 1, 'like': 15, 'easy': 1, 'talk': 1, 'smart': 1, 'funny': 1, 'beautiful': 1, 'love': 1, 'pretty': 1, 'sure': 1, 'little': 1, 'bit': 1, 'socially': 1, 'stunted': 1, 'ass': 1, 'scared': 1, 'make': 1, 'move': 1, 'ruin': 17, 'fucking': 7, 'hate': 1, 'The': 1, 'chances': 1, 'meeting': 1, 'somebody': 1, 'zero': 1, 'made': 1, 'promise': 1, 'improve': 1, 'put': 1, 'change': 1, '22': 3, 'kill': 15, 'months': 1, 'nothing': 17, 'changed': 1, '99': 1, '%': 1, 'meet': 1, 'party': 1, 'common': 1, 'hurt': 1, 'mom': 1, 'live': 1, 'anymore': 1, 'read': 1, 'reddit': 1, 'seems': 1, 'people': 13, 'whiny': 1, 'babies': 1, 'right': 1, 'know': 1, 'countries': 1, 'starving': 1, 'death': 1, 'worst': 1, 'thing': 1, 'happen': 1, 'pussy': 1, 'letting': 1, 'nobody': 1, 'wants': 1, 'piece': 1, 'shit': 1, 'But': 1, 'stink': 1, 'suicide': 1, 'everyday': 1, 'nonstop': 1, 'keep': 1, 'fantasizing': 1, 'maybe': 1, 'Ill': 1, 'go': 1, 'somewhere': 1, 'lovable': 1, 'everybody': 1, 'else': 1, 'wish': 1, 'born': 1}\n"
     ]
    }
   ],
   "source": [
    "idf = {}\n",
    "for word in total_words:\n",
    "    if word not in stopwords_set:\n",
    "        if word in idf:\n",
    "            idf[word] = check_sentence(word, total_sentences)\n",
    "        else:\n",
    "            idf[word] = 1\n",
    "\n",
    "print(idf)"
   ],
   "metadata": {
    "collapsed": false,
    "pycharm": {
     "name": "#%%\n"
    }
   }
  },
  {
   "cell_type": "code",
   "execution_count": 54,
   "outputs": [
    {
     "name": "stdout",
     "output_type": "stream",
     "text": [
      "{'``': 3.091042453358316, 'Nobody': 3.091042453358316, 'probably': 0.6931471805599453, 'going': 0.25782910930209985, 'respond': 3.091042453358316, 'post': 3.091042453358316, 'I': 0.09531017980432493, 'might': 3.091042453358316, 'alive': 3.091042453358316, 'much': 0.3829922522561057, 'longer': 3.091042453358316, 'anyway': 3.091042453358316, '.': 0.04652001563489291, \"'m\": 0.7884573603642703, '21': 3.091042453358316, 'year': 3.091042453358316, 'old': 3.091042453358316, 'virgin': 3.091042453358316, 'loser': 3.091042453358316, 'still': 0.14660347419187544, 'community': 3.091042453358316, 'college': 3.091042453358316, 'lonely': 0.14660347419187544, 'entire': 3.091042453358316, 'life': 0.4519851237430572, ',': 1.4816045409242156, \"n't\": 0.6931471805599453, 'siblings': 3.091042453358316, 'dad': 3.091042453358316, 'would': 0.5260930958967791, 'always': 3.091042453358316, 'call': 3.091042453358316, 'worthless': 0.3184537311185346, 'ugly': 3.091042453358316, \"'d\": 3.091042453358316, 'sleep': 3.091042453358316, 'friends': 3.091042453358316, 'house': 3.091042453358316, 'couch': 3.091042453358316, 'sometimes': 3.091042453358316, 'come': 3.091042453358316, 'home': 3.091042453358316, 'drunk': 3.091042453358316, 'angry': 3.091042453358316, 'Because': 3.091042453358316, 'really': 3.091042453358316, 'depressed': 3.091042453358316, 'high': 3.091042453358316, 'school': 3.091042453358316, 'take': 3.091042453358316, 'best': 0.3184537311185346, 'care': 3.091042453358316, 'weird': 0.20067069546215124, 'quiet': 3.091042453358316, 'kid': 0.4519851237430572, 'When': 3.091042453358316, 'came': 3.091042453358316, 'time': 0.09531017980432493, 'graduation': 3.091042453358316, 'two': 3.091042453358316, 'lines': 3.091042453358316, 'see': 3.091042453358316, 'walks': 3.091042453358316, 'based': 3.091042453358316, 'tall': 3.091042453358316, 'girls': 0.3829922522561057, 'tried': 3.091042453358316, 'push': 3.091042453358316, 'front': 3.091042453358316, 'walk': 3.091042453358316, 'think': 0.4519851237430572, 'every': 3.091042453358316, 'day': 3.091042453358316, 'Bunch': 3.091042453358316, 'bad': 3.091042453358316, 'stuff': 3.091042453358316, 'happened': 3.091042453358316, 'want': 0.14660347419187544, 'turn': 0.25782910930209985, 'pathetic': 3.091042453358316, 'rant': 3.091042453358316, 'Anyway': 3.091042453358316, 'full': 3.091042453358316, 'three': 3.091042453358316, 'years': 3.091042453358316, 'later': 3.091042453358316, 'moved': 3.091042453358316, 'met': 0.09531017980432493, 'perfect': 3.091042453358316, 'girl': 3.091042453358316, 'ever': 3.091042453358316, 'She': 3.091042453358316, 'liked': 0.4519851237430572, 'things': 0.25782910930209985, 'introverted': 3.091042453358316, 'like': 0.3829922522561057, 'easy': 3.091042453358316, 'talk': 3.091042453358316, 'smart': 3.091042453358316, 'funny': 3.091042453358316, 'beautiful': 3.091042453358316, 'love': 3.091042453358316, 'pretty': 3.091042453358316, 'sure': 3.091042453358316, 'little': 3.091042453358316, 'bit': 3.091042453358316, 'socially': 3.091042453358316, 'stunted': 3.091042453358316, 'ass': 3.091042453358316, 'scared': 3.091042453358316, 'make': 3.091042453358316, 'move': 3.091042453358316, 'ruin': 0.25782910930209985, 'fucking': 1.1451323043030026, 'hate': 3.091042453358316, 'The': 3.091042453358316, 'chances': 3.091042453358316, 'meeting': 3.091042453358316, 'somebody': 3.091042453358316, 'zero': 3.091042453358316, 'made': 3.091042453358316, 'promise': 3.091042453358316, 'improve': 3.091042453358316, 'put': 3.091042453358316, 'change': 3.091042453358316, '22': 1.992430164690206, 'kill': 0.3829922522561057, 'months': 3.091042453358316, 'nothing': 0.25782910930209985, 'changed': 3.091042453358316, '99': 3.091042453358316, '%': 3.091042453358316, 'meet': 3.091042453358316, 'party': 3.091042453358316, 'common': 3.091042453358316, 'hurt': 3.091042453358316, 'mom': 3.091042453358316, 'live': 3.091042453358316, 'anymore': 3.091042453358316, 'read': 3.091042453358316, 'reddit': 3.091042453358316, 'seems': 3.091042453358316, 'people': 0.5260930958967791, 'whiny': 3.091042453358316, 'babies': 3.091042453358316, 'right': 3.091042453358316, 'know': 3.091042453358316, 'countries': 3.091042453358316, 'starving': 3.091042453358316, 'death': 3.091042453358316, 'worst': 3.091042453358316, 'thing': 3.091042453358316, 'happen': 3.091042453358316, 'pussy': 3.091042453358316, 'letting': 3.091042453358316, 'nobody': 3.091042453358316, 'wants': 3.091042453358316, 'piece': 3.091042453358316, 'shit': 3.091042453358316, 'But': 3.091042453358316, 'stink': 3.091042453358316, 'suicide': 3.091042453358316, 'everyday': 3.091042453358316, 'nonstop': 3.091042453358316, 'keep': 3.091042453358316, 'fantasizing': 3.091042453358316, 'maybe': 3.091042453358316, 'Ill': 3.091042453358316, 'go': 3.091042453358316, 'somewhere': 3.091042453358316, 'lovable': 3.091042453358316, 'everybody': 3.091042453358316, 'else': 3.091042453358316, 'wish': 3.091042453358316, 'born': 3.091042453358316}\n"
     ]
    }
   ],
   "source": [
    "idf.update((x, math.log(int(total_sentence_length)/y)) for x,y in idf.items())\n",
    "print(idf)"
   ],
   "metadata": {
    "collapsed": false,
    "pycharm": {
     "name": "#%%\n"
    }
   }
  },
  {
   "cell_type": "code",
   "execution_count": 55,
   "outputs": [
    {
     "name": "stdout",
     "output_type": "stream",
     "text": [
      "{'``': 0.006060867555604541, 'Nobody': 0.006060867555604541, 'probably': 0.004077336356234972, 'going': 0.0010110945462827444, 'respond': 0.006060867555604541, 'post': 0.006060867555604541, 'I': 0.006354011986954996, 'might': 0.006060867555604541, 'alive': 0.006060867555604541, 'much': 0.0022528956015065043, 'longer': 0.006060867555604541, 'anyway': 0.006060867555604541, \"'m\": 0.0030919896484873344, '21': 0.006060867555604541, 'year': 0.006060867555604541, 'old': 0.006060867555604541, 'virgin': 0.006060867555604541, 'loser': 0.006060867555604541, 'still': 0.0008623733775992673, 'community': 0.006060867555604541, 'college': 0.006060867555604541, 'lonely': 0.0005749155850661782, 'entire': 0.006060867555604541, 'life': 0.0026587360220179834, \"n't\": 0.013591121187449907, 'siblings': 0.006060867555604541, 'dad': 0.006060867555604541, 'would': 0.005157775449968423, 'always': 0.006060867555604541, 'call': 0.006060867555604541, 'worthless': 0.0012488381612491552, 'ugly': 0.006060867555604541, \"'d\": 0.006060867555604541, 'sleep': 0.006060867555604541, 'friends': 0.006060867555604541, 'house': 0.006060867555604541, 'couch': 0.006060867555604541, 'sometimes': 0.006060867555604541, 'come': 0.006060867555604541, 'home': 0.006060867555604541, 'drunk': 0.006060867555604541, 'angry': 0.006060867555604541, 'Because': 0.006060867555604541, 'really': 0.006060867555604541, 'depressed': 0.006060867555604541, 'high': 0.006060867555604541, 'school': 0.006060867555604541, 'take': 0.006060867555604541, 'best': 0.0012488381612491552, 'care': 0.006060867555604541, 'weird': 0.0007869439037731422, 'quiet': 0.006060867555604541, 'kid': 0.0017724906813453224, 'When': 0.006060867555604541, 'came': 0.006060867555604541, 'time': 0.00037376541099735266, 'graduation': 0.006060867555604541, 'two': 0.006060867555604541, 'lines': 0.006060867555604541, 'see': 0.006060867555604541, 'walks': 0.006060867555604541, 'based': 0.006060867555604541, 'tall': 0.006060867555604541, 'girls': 0.0022528956015065043, 'tried': 0.006060867555604541, 'push': 0.006060867555604541, 'front': 0.006060867555604541, 'walk': 0.006060867555604541, 'think': 0.003544981362690645, 'every': 0.006060867555604541, 'day': 0.006060867555604541, 'Bunch': 0.006060867555604541, 'bad': 0.006060867555604541, 'stuff': 0.006060867555604541, 'happened': 0.006060867555604541, 'want': 0.0005749155850661782, 'turn': 0.0010110945462827444, 'pathetic': 0.006060867555604541, 'rant': 0.006060867555604541, 'Anyway': 0.006060867555604541, 'full': 0.006060867555604541, 'three': 0.006060867555604541, 'years': 0.006060867555604541, 'later': 0.006060867555604541, 'moved': 0.006060867555604541, 'met': 0.00037376541099735266, 'perfect': 0.006060867555604541, 'girl': 0.006060867555604541, 'ever': 0.006060867555604541, 'She': 0.006060867555604541, 'liked': 0.0017724906813453224, 'things': 0.0010110945462827444, 'introverted': 0.006060867555604541, 'like': 0.005256756403515177, 'easy': 0.006060867555604541, 'talk': 0.006060867555604541, 'smart': 0.006060867555604541, 'funny': 0.006060867555604541, 'beautiful': 0.006060867555604541, 'love': 0.006060867555604541, 'pretty': 0.006060867555604541, 'sure': 0.006060867555604541, 'little': 0.006060867555604541, 'bit': 0.006060867555604541, 'socially': 0.006060867555604541, 'stunted': 0.006060867555604541, 'ass': 0.006060867555604541, 'scared': 0.006060867555604541, 'make': 0.006060867555604541, 'move': 0.006060867555604541, 'ruin': 0.0010110945462827444, 'fucking': 0.0044907149188353045, 'hate': 0.006060867555604541, 'The': 0.006060867555604541, 'chances': 0.006060867555604541, 'meeting': 0.006060867555604541, 'somebody': 0.006060867555604541, 'zero': 0.006060867555604541, 'made': 0.006060867555604541, 'promise': 0.006060867555604541, 'improve': 0.006060867555604541, 'put': 0.006060867555604541, 'change': 0.006060867555604541, '22': 0.007813451626236102, 'kill': 0.0022528956015065043, 'months': 0.006060867555604541, 'nothing': 0.0010110945462827444, 'changed': 0.006060867555604541, '99': 0.006060867555604541, '%': 0.006060867555604541, 'meet': 0.006060867555604541, 'party': 0.006060867555604541, 'common': 0.006060867555604541, 'hurt': 0.006060867555604541, 'mom': 0.006060867555604541, 'live': 0.006060867555604541, 'anymore': 0.006060867555604541, 'read': 0.006060867555604541, 'reddit': 0.006060867555604541, 'seems': 0.006060867555604541, 'people': 0.0030946652699810535, 'whiny': 0.006060867555604541, 'babies': 0.006060867555604541, 'right': 0.006060867555604541, 'know': 0.006060867555604541, 'countries': 0.006060867555604541, 'starving': 0.006060867555604541, 'death': 0.006060867555604541, 'worst': 0.006060867555604541, 'thing': 0.006060867555604541, 'happen': 0.006060867555604541, 'pussy': 0.006060867555604541, 'letting': 0.006060867555604541, 'nobody': 0.006060867555604541, 'wants': 0.006060867555604541, 'piece': 0.006060867555604541, 'shit': 0.006060867555604541, 'But': 0.006060867555604541, 'stink': 0.006060867555604541, 'suicide': 0.006060867555604541, 'everyday': 0.006060867555604541, 'nonstop': 0.006060867555604541, 'keep': 0.006060867555604541, 'fantasizing': 0.006060867555604541, 'maybe': 0.006060867555604541, 'Ill': 0.006060867555604541, 'go': 0.006060867555604541, 'somewhere': 0.006060867555604541, 'lovable': 0.006060867555604541, 'everybody': 0.006060867555604541, 'else': 0.006060867555604541, 'wish': 0.006060867555604541, 'born': 0.006060867555604541}\n"
     ]
    }
   ],
   "source": [
    "tf_idf = {key: tf[key]*idf.get(key, 0) for key in tf.keys()}\n",
    "print(tf_idf)"
   ],
   "metadata": {
    "collapsed": false,
    "pycharm": {
     "name": "#%%\n"
    }
   }
  },
  {
   "cell_type": "code",
   "execution_count": 56,
   "outputs": [],
   "source": [
    "def get_highest_frequency(dic_element, num):\n",
    "    result = dict(sorted(dic_element.items(), key=itemgetter(1), reverse=True)[:num])\n",
    "    return result"
   ],
   "metadata": {
    "collapsed": false,
    "pycharm": {
     "name": "#%%\n"
    }
   }
  },
  {
   "cell_type": "code",
   "execution_count": 57,
   "outputs": [
    {
     "name": "stdout",
     "output_type": "stream",
     "text": [
      "{\"n't\": 0.013591121187449907, '22': 0.007813451626236102, 'I': 0.006354011986954996}\n"
     ]
    }
   ],
   "source": [
    "print(get_highest_frequency(tf_idf, 3))"
   ],
   "metadata": {
    "collapsed": false,
    "pycharm": {
     "name": "#%%\n"
    }
   }
  }
 ],
 "metadata": {
  "kernelspec": {
   "display_name": "Python 3",
   "language": "python",
   "name": "python3"
  },
  "language_info": {
   "codemirror_mode": {
    "name": "ipython",
    "version": 2
   },
   "file_extension": ".py",
   "mimetype": "text/x-python",
   "name": "python",
   "nbconvert_exporter": "python",
   "pygments_lexer": "ipython2",
   "version": "2.7.6"
  }
 },
 "nbformat": 4,
 "nbformat_minor": 0
}